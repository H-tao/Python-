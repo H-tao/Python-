{
 "cells": [
  {
   "cell_type": "markdown",
   "metadata": {},
   "source": [
    "## 划分数据集 70%训练集 30%测试集\n",
    "    1. 读取文件\n",
    "    2. 随机划分\n",
    "        ·random.sample(list, n) 随机取样——从list随机取n个样本\n",
    "    3. 保存数据"
   ]
  },
  {
   "cell_type": "code",
   "execution_count": 1,
   "metadata": {},
   "outputs": [],
   "source": [
    "import pandas as pd\n",
    "import _pickle as cPickle\n",
    "import random\n",
    "\n",
    "# 1.读取文件\n",
    "df_data = cPickle.load(\n",
    "    open('./data/df_data.pkl','rb')\n",
    ")\n",
    "\n",
    "\n",
    "# 2.取30%测试集\n",
    "# 随机数种子\n",
    "random.seed(123)\n",
    "# sample取测试集随机index样本\n",
    "text_index_s = random.sample(\n",
    "    df_data.index.tolist(),    # 将索引列转列表类型\n",
    "    int(len(df_data) * 0.3)    # 取30%为测试集\n",
    ")\n",
    "# .loc根据index取到测试集\n",
    "df_data_text = df_data.loc[text_index_s]\n",
    "\n",
    "\n",
    "# 3.~  df.isin() 取70%训练集\n",
    "df_data_training = df_data[\n",
    "    ~df_data.index.isin(text_index_s)\n",
    "]\n",
    "\n",
    "# 4.保存数据\n",
    "cPickle.dump(\n",
    "    df_data_text,open('./data/df_data_text.pkl','wb')\n",
    ")\n",
    "cPickle.dump(\n",
    "    df_data_training,open('./data/df_data_training.pkl','wb')\n",
    ")"
   ]
  }
 ],
 "metadata": {
  "kernelspec": {
   "display_name": "Python 3",
   "language": "python",
   "name": "python3"
  },
  "language_info": {
   "codemirror_mode": {
    "name": "ipython",
    "version": 3
   },
   "file_extension": ".py",
   "mimetype": "text/x-python",
   "name": "python",
   "nbconvert_exporter": "python",
   "pygments_lexer": "ipython3",
   "version": "3.7.5"
  }
 },
 "nbformat": 4,
 "nbformat_minor": 2
}
