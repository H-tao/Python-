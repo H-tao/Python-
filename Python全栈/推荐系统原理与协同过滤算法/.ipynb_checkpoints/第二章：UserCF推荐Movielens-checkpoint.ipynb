{
 "cells": [
  {
   "cell_type": "markdown",
   "metadata": {},
   "source": [
    "## 0.读取数据"
   ]
  },
  {
   "cell_type": "code",
   "execution_count": null,
   "metadata": {},
   "outputs": [],
   "source": [
    "import pandas as pd\n",
    "import numpy as np\n",
    "import scipy.spatial.distance as ssd    # 用于计算皮尔逊相关系数\n",
    "from collections import defaultdict"
   ]
  },
  {
   "cell_type": "code",
   "execution_count": null,
   "metadata": {
    "scrolled": true
   },
   "outputs": [],
   "source": [
    "# 读取训练集的前三列，分别命名为'user_id', 'item_id', 'rating'\n",
    "df_training_data = pd.read_csv(\n",
    "    './data/movielen_rating_training.base',    # 文件路径\n",
    "    names=['user_id', 'item_id', 'rating'],    # 列名称\n",
    "    usecols=[0, 1, 2],                         # 只读取 0 , 1 , 2 列\n",
    "    sep='\\t'                                   # 以'\\t'分隔数据\n",
    ")\n",
    "df_training_data.head()"
   ]
  },
  {
   "cell_type": "markdown",
   "metadata": {},
   "source": [
    "## 1.使用Map保存用户唯一索引\n",
    "\n",
    "**{ user_id1 : user_index1 , user_id2 : user_index2 , user_id3 : user_index3 , ... }**"
   ]
  },
  {
   "cell_type": "code",
   "execution_count": null,
   "metadata": {},
   "outputs": [],
   "source": [
    "# 不重复的user_id与item_id列表\n",
    "user_id_s = df_training_data['user_id'].unique()\n",
    "item_id_s = df_training_data['item_id'].unique()\n",
    "\n",
    "# 使用map建立id与index的索引\n",
    "# { user_id1 : user_index1 , user_id2 : user_index2 }\n",
    "user_index_map = {}    \n",
    "item_index_map = {}\n",
    "for user_index in range(len(user_id_s)):\n",
    "    user_id = user_id_s[user_index]\n",
    "    user_index_map[user_id] = user_index#\n",
    "for item_index in range(len(item_id_s)):\n",
    "    item_id = item_id_s[item_index]\n",
    "    item_index_map[item_id] = item_index"
   ]
  },
  {
   "cell_type": "markdown",
   "metadata": {},
   "source": [
    "## 2.将打分记录转换成矩阵和字典\n",
    "\n",
    "| |user_id|item_id|rating|\n",
    "|---|---|---|---|\n",
    "|0\t|1\t|1\t|1  |\n",
    "|1\t|1\t|2\t|4  |\n",
    "|2\t|1\t|3\t|2  |\n",
    "|3\t|1\t|4\t|1  |\n",
    "|4\t|2\t|1\t|2  |\n",
    "|5\t|2\t|2\t|4  |\n",
    "|...|...|...|...|\n",
    "\n",
    "----------------------------------------转换为\n",
    "\n",
    "| |商品1| 商品2| 商品3| 商品4| 商品5|\n",
    "|:---:|:---:|:---:|:---:|:---:|:---:|\n",
    "|用户1| 1分| 4分| 2分| 1分| ？|\n",
    "|用户2| 2分| 4分| 2分| 1分| 5分|\n",
    "|用户3| 5分| 1分| 5分| 4分| 2分|\n",
    "|用户4| 2分| 5分| 3分| 4分| 5分|\n",
    "|...| ...| ...| ...| ...| ...|\n",
    "\n",
    "| map |\n",
    "|:---:|\n",
    "|user_index : [ item_index1, item_index2 ...] |\n",
    "1: [0 ,1 ,2, 3]\n",
    "2: [0 ,1 ,2, 3, 4]\n",
    "3: [0 ,1 ,2, 3, 4]\n",
    "4: ...\n",
    "... : ..."
   ]
  },
  {
   "cell_type": "code",
   "execution_count": null,
   "metadata": {},
   "outputs": [],
   "source": [
    "# 用户与物品的打分矩阵(943, 1650)\n",
    "user_item_rating_array = np.zeros(shape=(len(user_id_s), len(item_id_s)))    # shape = (943, 1650)\n",
    "# 用户打分商品的索引集合\n",
    "user_rating_map = defaultdict(set)    # 以set为默认创建字典，字典中每一个键值都是set，当键不存在时返回空set\n",
    "\n",
    "for row_index in df_training_data.index:\n",
    "    # 取得每一行的数据\n",
    "    row_data = df_training_data.iloc[row_index]\n",
    "    # 打分用户的索引\n",
    "    user_index = user_index_map[row_data['user_id']]\n",
    "    # 打分电影的索引\n",
    "    item_index = item_index_map[row_data['item_id']]\n",
    "    # 添加用户打分商品索引集合\n",
    "    user_rating_map[user_index].add(item_index)    # 往一个user_index的集合set中添加item_index\n",
    "    # 矩阵中行=user_index，列=item_index的元素赋值为打分\n",
    "    user_item_rating_array[user_index, item_index] = row_data['rating']\n",
    "user_item_rating_array"
   ]
  },
  {
   "cell_type": "markdown",
   "metadata": {},
   "source": [
    "## 3.计算用户的平均打分向量\n",
    "- 1.从map中取用户1评过分的所有item索引\n",
    "\n",
    "| map |\n",
    "|:---:|\n",
    "|user_index : [ item_index1, item_index2 ...] |\n",
    "|---->    1: [0 ,1 ,2, 3] |\n",
    " \n",
    "- 2.根据item索引中取评分\n",
    "\n",
    "| |商品1| 商品2| 商品3| 商品4| 商品5|\n",
    "|:---:|:---:|:---:|:---:|:---:|:---:|\n",
    "|用户1| 1分| 4分| 2分| 1分| ？|\n",
    "\n",
    "- 3.求\n",
    "\n",
    "    用户1对商品的平均评分:\n",
    "\n",
    "    1 + 4 + 2 + 1 \\ 4 = 2.00\n",
    "\n",
    "    用户2对商品的平均评分:\n",
    "\n",
    "    2 + 4 + 2 + 1 \\ 4 = 2.25\n",
    "\n",
    "\n",
    "- 4.用一个列表保存所有用户平均评分\n",
    "[2.00, 2.25, ...]"
   ]
  },
  {
   "cell_type": "code",
   "execution_count": null,
   "metadata": {
    "scrolled": true
   },
   "outputs": [],
   "source": [
    "# 计算用户的平均打分向量\n",
    "def calculate_user_rating_mean():\n",
    "    user_rating_mean_s = []\n",
    "    # 遍历所有的用户\n",
    "    for user_index in range(len(user_id_s)):\n",
    "        # 取用户打过分的电影索引\n",
    "        item_rating_index_v = list(user_rating_map[user_index])    # 将set转为list，map里存放的都是set，set内都是item_index。\n",
    "        # 打过分的电影评分向量\n",
    "        item_rating_v = np.take(\n",
    "            user_item_rating_array[user_index],                    # 从打分矩阵中取的user_index对应的行\n",
    "            item_rating_index_v                                    # 从对应的行中取用户打过分的item\n",
    "        )\n",
    "        # 打分向量的平均值\n",
    "        mean = round(item_rating_v.mean(), 2)                      # round()四舍五入取2位小数\n",
    "        user_rating_mean_s.append(mean)\n",
    "    return user_rating_mean_s                                     # 返回一个所有用户平均打分的列表\n",
    "\n",
    "\n",
    "# def calculate_user_rating_mean():\n",
    "#     return [\n",
    "#         round(\n",
    "#             np.take(\n",
    "#                 user_item_rating_array[user_index],\n",
    "#                 list(user_rating_map[user_index])\n",
    "#             ).mean(),\n",
    "#             2\n",
    "#         )\n",
    "#         for user_index in range(len(user_id_s))\n",
    "#     ]\n",
    "\n",
    "# 得到用户打分的平均值，列表类型，列表索引对应user_index\n",
    "user_rating_mean_s = calculate_user_rating_mean()\n",
    "user_rating_mean_s"
   ]
  },
  {
   "cell_type": "markdown",
   "metadata": {},
   "source": [
    "## 4.计算用户相似度矩阵\n",
    "\n",
    "$$ \\vec{r}_1 = (1,4,2,1)  $$\n",
    "\n",
    "$$ \\overline{r}_1 = \\frac{1+4+2+1}{4} $$\n",
    "\n",
    "$$ \\vec{r}^,_1 = \\vec{r}_1 - \\overline{r}_1 = (-1,2,0,-1)  $$\n",
    "\n",
    "\n",
    "\n",
    "\n",
    "$$sim(\\vec{r}^,_1,\\vec{r}^,_2) = \\frac{ (\\vec{r}^,_1 , \\vec{r}^,_2) }{ \\sqrt{ (\\vec{r}^,_1)^2 } \\sqrt{ (\\vec{r}^,_2)^2 } }$$\n",
    "\n",
    "$$ = \\frac{ -1 \\times (-0.25)+2\\times1.75+0\\times(-0.25)+(-1)\\times(-1.25) } { \\sqrt{(-1)^2 + 2^2 + 0^2 + (-1)^2 } \\times \\sqrt{ (-0.25)^2 + 1.75^2 + (-0.25)^2 + (-1.25)^2} } = 0.937  $$\n",
    "\n",
    "\n",
    "**sim = 1 - ssd.cosine(v1, v2)**"
   ]
  },
  {
   "cell_type": "code",
   "execution_count": null,
   "metadata": {},
   "outputs": [],
   "source": [
    "# 定义用户相似度函数\n",
    "def calculate_sim(user_index1, user_index2):\n",
    "    # 取用户1和用户2公开打分的电影集合，转换成列表\n",
    "    intersection_index_s = list(\n",
    "        user_rating_map[user_index1] & user_rating_map[user_index2]    # 集合取交集\n",
    "    )\n",
    "    # 如果没有公开的打分项，相似度0.0\n",
    "    if not intersection_index_s:\n",
    "        return 0.0\n",
    "    # 根据公共索引，取到用户1的打分向量，并减去均值\n",
    "    v1 = np.take(\n",
    "        user_item_rating_array[user_index1],    # 矩阵中取行\n",
    "        intersection_index_s                    # 行中取多列\n",
    "    ) - user_rating_mean_s[user_index1]         # 减去均值\n",
    "    # 根据公共索引，取到用户2的打分向量，并减去均值\n",
    "    v2 = np.take(\n",
    "        user_item_rating_array[user_index2],    # 矩阵中取行\n",
    "        intersection_index_s                    # 行中取多列\n",
    "    ) - user_rating_mean_s[user_index2]         # 减去均值\n",
    "    # 计算相似度\n",
    "    sim = 1 - ssd.cosine(v1, v2)\n",
    "    # 如果相似度不是数字（如果v1或v2是0向量，将会得到无穷大），返回相似度0\n",
    "    if np.isnan(sim):\n",
    "        return 0.0\n",
    "    # 否则相似度保留两位小数，返回结果\n",
    "    else:\n",
    "        return round(sim, 2)"
   ]
  },
  {
   "cell_type": "code",
   "execution_count": null,
   "metadata": {},
   "outputs": [],
   "source": [
    "# 用户相似度矩阵\n",
    "user_similarity_array = np.zeros(shape=(len(user_id_s), len(user_id_s)))    # shape = (943, 943)\n",
    "for user_index_i in range(len(user_id_s)):\n",
    "    for user_index_j in range(user_index_i + 1, len(user_id_s)):\n",
    "        # 计算用户i和用户j的相似度\n",
    "        sim = calculate_sim(user_index_i, user_index_j)\n",
    "        # 计算用户i和用户j的相似度 = 计算用户j和用户i的相似度\n",
    "        user_similarity_array[user_index_i, user_index_j] = sim\n",
    "        user_similarity_array[user_index_j, user_index_i] = sim"
   ]
  },
  {
   "cell_type": "code",
   "execution_count": null,
   "metadata": {
    "scrolled": true
   },
   "outputs": [],
   "source": [
    "user_similarity_array     # 对称矩阵"
   ]
  },
  {
   "cell_type": "markdown",
   "metadata": {},
   "source": [
    "## 5.根据用户评分矩阵和用户相似度矩阵计算预测商品分数形成——预测打分矩阵\n",
    "||||||||\n",
    "|---|---|---|---|---|---|---|\n",
    "|0.   | 0.   | 0.   | ... | 3.18 | 3.7  | 3.31 | \n",
    "|0.   | 3.53 | 3.48 | ... | 3.3  | 3.82 | 3.43 | \n",
    "|3.08  | 2.96 | 2.64 | ... | 3.5  | 3.02 | 0.   | \n",
    "|...   | ... | ... | ... | ... | ... | ... |\n",
    "|0.    | 3.81 | 3.72 | ... | 4.55 | 4.07 | 3.68 | \n",
    "|4.5   | 4.13 | 3.96 | ... | 3.77 | 4.29 | 3.9  | \n",
    "|3.67   | 0.   | 2.88 | ... | 2.91 | 3.43 | 3.04 | \n",
    "\n",
    "- 矩阵中为0的，存在实际打分\n",
    "- 打分区间[0, 5]"
   ]
  },
  {
   "cell_type": "markdown",
   "metadata": {},
   "source": [
    "### 计算过程"
   ]
  },
  {
   "cell_type": "markdown",
   "metadata": {},
   "source": [
    "\n",
    "\n",
    "$$\\hat{r}_{u,i}=\\overline{r}_u+ \\frac{\\sum_{v\\in{V}}sim(u,v)(r_{v,i} -\\overline{r}_v) }{\\sum_{v\\in{V}}|sim(u,v)|} $$\n",
    "\n",
    "$$ sim(1,2)=0.937  $$ $$  sim(1,3)=-0.872 $$ $$  sim(1,4)=0.730 $$\n",
    "\n",
    "$$ a_2 = 用户2 评分 商品5  = 5 $$\n",
    "$$ a_3 = 用户3 评分 商品5  = 2 $$\n",
    "$$ a_4 = 用户4 评分 商品5  = 5 $$\n",
    "\n",
    "$$ rating_{1,5} = \\overline{r}_1 + \n",
    "\\frac\n",
    "{ (a_2 - \\overline{r}_2)\\times sim(1,2)  +  (a_3 - \\overline{r}_3)\\times sim(1,3)  +  (a_4 - \\overline{r}_4)\\times sim(1,4) }\n",
    "{ |sim(1,2)|  +  |sim(1,3)|  +  |sim(1,4)| } = 4.05\n",
    "$$"
   ]
  },
  {
   "cell_type": "code",
   "execution_count": null,
   "metadata": {},
   "outputs": [],
   "source": [
    "# 用户对商品的预测矩阵，已打分的商品，预测分数为0分\n",
    "user_item_predict_rating_array = np.zeros_like(user_item_rating_array)    # user_item_rating_array.shape = (943, 1650)\n",
    "\n",
    "# 对所有的用户index进行遍历\n",
    "for user_index in range(len(user_id_s)):\n",
    "    # 对所有的商品index进行遍历\n",
    "    for item_index in range(len(item_id_s)):\n",
    "        # 如果这个商品没有这个用户被打过分\n",
    "        if item_index not in user_rating_map[user_index]:\n",
    "            # 找到对这个商品打过分的所有用户的索引\n",
    "            user_rating_index_v = np.where(\n",
    "                user_item_rating_array[:, item_index] > 0\n",
    "            )[0]\n",
    "            # 如果没有用户对这个商品打过分，continue\n",
    "            if not list(user_rating_index_v):\n",
    "                continue\n",
    "                \n",
    "            # 根据用户打分的索引，从用户相似度矩阵中取出相似度向量\n",
    "            user_sim_v = np.take(\n",
    "                user_similarity_array[user_index],    # 矩阵中取行\n",
    "                user_rating_index_v    # 行中取多列\n",
    "            )  #  sim(1,2)=0.937    sim(1,3)=-0.872    sim(1,4)=0.730\n",
    "            \n",
    "            # 计算相似度绝对值加和\n",
    "            user_sim_abs_sum = user_sim_v.__abs__().sum()\n",
    "            # 如果相似度绝对值加和为0（存在对这个商品打过分的用户群体，但这些用户群体与目标用户的相关度都为0），continue\n",
    "            if user_sim_abs_sum == 0:\n",
    "                continue\n",
    "            # 得到用户打分的向量，并去掉平均值\n",
    "            user_rating_v = np.take(\n",
    "                user_item_rating_array[:, item_index],    # 矩阵中取行\n",
    "                user_rating_index_v    # 行中取多列\n",
    "            ) - np.take(\n",
    "                user_rating_mean_s,    # 列表\n",
    "                user_rating_index_v    # 列表中取多行\n",
    "            )\n",
    "            # 根据公式，得到预测的结果，这里保留两位小数\n",
    "            predict_rating = round(\n",
    "                np.dot(user_rating_v, user_sim_v) / user_sim_abs_sum\n",
    "                ,2\n",
    "            ) + user_rating_mean_s[user_index]\n",
    "            # 把预测的结果添加到预测矩阵中\n",
    "            user_item_predict_rating_array[user_index, item_index] = predict_rating\n",
    "\n",
    "# 打印预测矩阵\n",
    "user_item_predict_rating_array"
   ]
  },
  {
   "cell_type": "markdown",
   "metadata": {},
   "source": [
    "## 6.为用户推荐商品\n",
    "\n",
    "1. 从预测打分矩阵中选取为每个用户的预测行\n",
    "2. 对每行的每个预测打分从高到低排序\n",
    "3. 选取最高的前n个商品推荐给用户"
   ]
  },
  {
   "cell_type": "code",
   "execution_count": null,
   "metadata": {},
   "outputs": [],
   "source": [
    "# 推荐商品，predict_quantity是推荐的商品的个数\n",
    "def predict(predict_quantity):\n",
    "    # 建立一个商品推荐字典，保存对user_index推荐的商品索引\n",
    "    predict_item_index_map = {}\n",
    "    # 例如：predict_item_index_map[user_index] = [4, 3, 2, 5]  排序 只要3个则取[4,3,2]  只要2个取[4,3]\n",
    "    # 对训练集中所有的user_index进行遍历\n",
    "    for user_index in range(len(user_id_s)):\n",
    "        # 预测矩阵中对应user_index的向量，\"-\"进行从大到小倒序排序(正序排序从小到大)\n",
    "        predict_item_index_v = list(np.argsort(-user_item_predict_rating_array[user_index]))\n",
    "        # 取0 : min(predict_quantity,len(predict_item_index_v))最前面的商品索引\n",
    "        predict_item_index_v = predict_item_index_v[0 : min(predict_quantity,len(predict_item_index_v))]\n",
    "        # 添加到商品推荐字典中\n",
    "        predict_item_index_map[user_index] = predict_item_index_v\n",
    "    # 返回商品推荐字典\n",
    "    return predict_item_index_map\n",
    "\n",
    "# 推荐50个商品\n",
    "predict_item_index_map = predict(50)\n",
    "predict_item_index_map"
   ]
  },
  {
   "cell_type": "markdown",
   "metadata": {},
   "source": [
    "# 读取测试集"
   ]
  },
  {
   "cell_type": "markdown",
   "metadata": {},
   "source": [
    "## 0.读取数据"
   ]
  },
  {
   "cell_type": "code",
   "execution_count": null,
   "metadata": {},
   "outputs": [],
   "source": [
    "# 读取测试集\n",
    "df_test_data = pd.read_csv('./data/movielen_rating_test.base', sep='\\t', names=['user_id','item_id','rating'], usecols=[0,1,2])\n",
    "df_test_data.head()                                                                                "
   ]
  },
  {
   "cell_type": "markdown",
   "metadata": {},
   "source": [
    "## 1.保存训练集中出现过的用户索引"
   ]
  },
  {
   "cell_type": "code",
   "execution_count": null,
   "metadata": {
    "scrolled": true
   },
   "outputs": [],
   "source": [
    "# 测试集中不重复的用户id\n",
    "user_test_unique_s = df_test_data['user_id'].unique()\n",
    "# 创建一个列表，保存测试集中的user_id对应的user_index\n",
    "user_index_test_s = []\n",
    "# 对测试集中的用户id进行遍历\n",
    "for user_id in user_test_unique_s:\n",
    "    # 如果测试集中的用户id在训练集的用户索引map中，添加这个user_index\n",
    "    if user_id in user_index_map.keys():\n",
    "        user_index_test_s.append(user_index_map[user_id])\n",
    "# 打印测试集中的user_index列表\n",
    "user_index_test_s"
   ]
  },
  {
   "cell_type": "markdown",
   "metadata": {},
   "source": [
    "## 2.根据训练集的打分构建测试集的打分矩阵\n",
    "例如：\n",
    "\n",
    "| |商品1| 商品2| 商品3| 商品4| 商品5|\n",
    "|:---:|:---:|:---:|:---:|:---:|:---:|\n",
    "|用户1| 1分| 4分| 2分| 1分| 4分|\n",
    "|用户2| 2分| 4分| 2分| 1分| 5分|\n",
    "|用户3| 5分| 1分| 5分| 4分| 2分|\n",
    "|用户4| 2分| 5分| 3分| 4分| 5分|\n",
    "|...|...|...|...|"
   ]
  },
  {
   "cell_type": "code",
   "execution_count": null,
   "metadata": {},
   "outputs": [],
   "source": [
    "# 创建一个用户对商品打分的dataframe\n",
    "df_user_item_rating_test = pd.DataFrame(np.zeros(shape=(len(user_index_test_s), len(item_id_s))))    # shape = (459, 1650)\n",
    "# dataframe的index设置为训练集中存在的测试集的user_index\n",
    "df_user_item_rating_test.index = user_index_test_s\n",
    "# 对dataframe的index进行遍历\n",
    "for row_index in df_test_data.index:\n",
    "    # 取每一行\n",
    "    row_data = df_test_data.loc[row_index]    # 根据索引用loc\n",
    "    # 如果这个用户id在user_rating_map中，商品id也在item_index_map中，添加这次打分\n",
    "    if row_data['user_id'] in user_rating_map.keys() and row_data['item_id'] in item_index_map.keys():\n",
    "        item_index = item_index_map[row_data['item_id']]    # 取商品索引\n",
    "        user_index = user_index_map[row_data['user_id']]    # 取用户索引\n",
    "        df_user_item_rating_test[item_index][user_index] = row_data['rating']    # dataframe先列后行\n",
    "        \n",
    "# 打印\n",
    "df_user_item_rating_test"
   ]
  },
  {
   "cell_type": "markdown",
   "metadata": {},
   "source": [
    "### 3.计算均方误差RMSE"
   ]
  },
  {
   "cell_type": "markdown",
   "metadata": {},
   "source": [
    "$$\n",
    "均方误差：RMSE = \\sqrt{  \\frac{ \\sum_{ u,i \\in T } (r_{ui} - \\hat{r}_{ui})^2 }{ |T| }    }\n",
    "$$\n",
    "\n",
    "$$\n",
    "平均绝对误差：MAE = \\frac{ \\sum_{ u,i \\in T }|r_{ui} - \\hat{r}_{ui}| }{ |T| }\n",
    "$$\n",
    "\n",
    "$$ r_{ui}测试集中用户u对物品i的实际评分  $$ \n",
    "\n",
    "$$ \\hat{r}_{ui}推荐系统为用户u对物品i的预测打分  $$ \n",
    "\n",
    "$$ T打分集合  $$ \n",
    "\n",
    "- **RMSE加大了预测不准评分的惩罚**\n",
    "\n",
    "|   |  实际打分 |  预测打分 |\n",
    "|---|---|---|\n",
    "|用户1对物品1| 1 | 3 |\n",
    "|用户2对物品2| 2 | 1 |\n",
    "\n",
    "$$\n",
    "RMSE = \\sqrt{  \\frac{ (1 - 3)^2 + (2 - 1)^2 }{ 2 }   } = 1.581\n",
    "$$ \n",
    "\n",
    "$$\n",
    "MAE = \\frac{|1-3|+|2-1|}{2} = 1.5\n",
    "$$"
   ]
  },
  {
   "cell_type": "code",
   "execution_count": null,
   "metadata": {},
   "outputs": [],
   "source": [
    "# 计算均方误差\n",
    "def calculate_RMSE():\n",
    "    # acc_loss为分子，二次损失\n",
    "    acc_loss = 0\n",
    "    # acc_num为分母，集合项数\n",
    "    acc_num = 0\n",
    "    # 对测试集的index进行遍历\n",
    "    for user_index in df_user_item_rating_test.index:\n",
    "        # 取测试集打分矩阵中用户打分的那一行\n",
    "        test_row_data = np.array(df_user_item_rating_test.loc[user_index])\n",
    "        # 取行中打过分的商品\n",
    "        test_index_v = np.where(test_row_data > 0)    # 打过分的商品分数必然大于0\n",
    "        # 取预测打分矩阵中用户打分的那一行\n",
    "        predict_row_data = user_item_predict_rating_array[user_index]\n",
    "        # 取行中打过分的商品\n",
    "        predict_index_v = np.where(predict_row_data > 0)    # 预测过打分的商品分数必然大于0\n",
    "        # 取test_index_v和predict_index_v的交集，即预测过的打分和测试集中也出现的实际打分\n",
    "        intersection_index_s = list(\n",
    "            set(test_index_v[0]) & set(predict_index_v[0])    # ndarray[0]，实现ndarray一行 转 列表\n",
    "        )\n",
    "        # 如果交集为空，continue \n",
    "        if not intersection_index_s:\n",
    "            continue\n",
    "        # 根据上述的交集索引，取得测试集中的打分向量和预测矩阵中的打分向量\n",
    "        test_rating_v = np.take(test_row_data, intersection_index_s)\n",
    "        predict_rating_v = np.clip(\n",
    "            np.take(predict_row_data, intersection_index_s), 0, 5    # clip()最小取0，最大取5\n",
    "        )   \n",
    "        # 计算二次损失\n",
    "        acc_loss += np.square(test_rating_v - predict_rating_v).sum()\n",
    "        # 分母叠加个数\n",
    "        acc_num += len(intersection_index_s)\n",
    "    # 得出均方误差\n",
    "    return np.sqrt(acc_loss/acc_num)\n",
    "\n",
    "# 计算均方误差\n",
    "RMSE = calculate_RMSE()\n",
    "RMSE"
   ]
  },
  {
   "cell_type": "markdown",
   "metadata": {},
   "source": [
    "## 4.计算准确率和召回"
   ]
  },
  {
   "cell_type": "markdown",
   "metadata": {},
   "source": [
    "#### 准确率：为用户推荐的，有多少是用户感兴趣的\n",
    "#### 召回率：用户感兴趣的，有多少被推荐了"
   ]
  },
  {
   "cell_type": "markdown",
   "metadata": {},
   "source": [
    "$$ \n",
    "Precision  =  \\frac{ \\sum_{u\\in{V}} |R(u) \\bigcap T(u)| }{ \\sum_{u\\in{V}}|R(u)| }\n",
    "$$\n",
    "\n",
    "$$\n",
    "Recall =   \\frac{ \\sum_{u\\in{V}} |R(u) \\bigcap T(u)| }{ \\sum_{u\\in{V}}|T(u)| }\n",
    "$$ \n",
    "\n",
    "$$\n",
    "R(u)：根据训练集学习，为用户推荐的推荐列表\n",
    "$$\n",
    "\n",
    "$$\n",
    "T(u)：用户在测试集上的行为列表\n",
    "$$"
   ]
  },
  {
   "cell_type": "code",
   "execution_count": null,
   "metadata": {
    "scrolled": true
   },
   "outputs": [],
   "source": [
    "# 计算准确率和召回率\n",
    "def calculate_precision_and_recall():\n",
    "    # 推荐的商品也在测试集中出现的总数\n",
    "    union_num = 0    #  为用户推荐的，且用户喜欢的\n",
    "    # 推荐的商品的总数\n",
    "    predict_num = 0    # 为用户推荐的\n",
    "    # 测试集中出现的商品总数\n",
    "    test_num = 0     # 用户喜欢的\n",
    "    # 对测试集的user_index进行遍历\n",
    "    for user_index in df_user_item_rating_test.index:\n",
    "        # 对测试集中的user_index打过分的商品，进行从大到小倒排序，得到索引\n",
    "        # （这里没有做排序功能，比如可以去测试集中倒序的前100个索引test_item_v）\n",
    "        test_item_v = np.where(df_user_item_rating_test[user_index] >= 3)[0].tolist()    # 用户评分大于3分视为用户喜欢\n",
    "        # 推荐的商品也在测试集中出现的总数做叠加\n",
    "        union_num += len(\n",
    "            set(predict_item_index_map[user_index]) & set(test_item_v)\n",
    "        )\n",
    "        # 推荐的商品的总数叠加\n",
    "        predict_num += len(predict_item_index_map[user_index])\n",
    "        # 测试集中出现的商品总数叠加\n",
    "        test_num += len(test_item_v)\n",
    "    # 返回正确率和召回率\n",
    "    return union_num / predict_num, union_num / test_num\n",
    "\n",
    "# 计算正确率和召回率\n",
    "precision, recall = calculate_precision_and_recall()\n",
    "print('precision=', precision)\n",
    "print('recall=', recall)"
   ]
  },
  {
   "cell_type": "markdown",
   "metadata": {},
   "source": [
    "## 5.计算覆盖度"
   ]
  },
  {
   "cell_type": "markdown",
   "metadata": {},
   "source": [
    "#### 覆盖度：能够推荐出来的物品种类总数占总物品种类集合的比例\n",
    "\n",
    "$$ Coverage = \\frac{U_{u\\in{V}} \\dot R(u)}{|I|} $$ \n",
    "\n",
    "$$ R(u)对用户推荐的推荐列表 $$\n",
    "\n",
    "$$ U 用户集合 $$\n",
    "\n",
    "$$ I 总物品集合 $$"
   ]
  },
  {
   "cell_type": "code",
   "execution_count": null,
   "metadata": {},
   "outputs": [],
   "source": [
    "# 计算覆盖率\n",
    "def calculate_coverage():\n",
    "    # 推荐的物品索引集合\n",
    "    predict_item_index_set = set()\n",
    "    # 把所有用户推荐过的商品id都添加到predict_item_set里，然后根据predict_item_index_set的数量，计算覆盖度\n",
    "    for user_index in predict_item_index_map.keys():\n",
    "        for item_index in predict_item_index_map[user_index]:\n",
    "            predict_item_index_set.add(item_index)\n",
    "    return len(predict_item_index_set) / len(item_id_s)\n",
    "\n",
    "# 计算并打印覆盖度\n",
    "coverage = calculate_coverage()\n",
    "print('coverage=', coverage)"
   ]
  },
  {
   "cell_type": "markdown",
   "metadata": {},
   "source": [
    "# 将代码用numpy pandas简化"
   ]
  },
  {
   "cell_type": "code",
   "execution_count": null,
   "metadata": {},
   "outputs": [],
   "source": []
  }
 ],
 "metadata": {
  "kernelspec": {
   "display_name": "Python 3",
   "language": "python",
   "name": "python3"
  },
  "language_info": {
   "codemirror_mode": {
    "name": "ipython",
    "version": 3
   },
   "file_extension": ".py",
   "mimetype": "text/x-python",
   "name": "python",
   "nbconvert_exporter": "python",
   "pygments_lexer": "ipython3",
   "version": "3.7.5"
  }
 },
 "nbformat": 4,
 "nbformat_minor": 2
}
