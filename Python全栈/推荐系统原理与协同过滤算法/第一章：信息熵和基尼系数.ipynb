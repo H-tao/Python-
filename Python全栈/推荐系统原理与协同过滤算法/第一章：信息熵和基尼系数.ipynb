{
 "cells": [
  {
   "cell_type": "markdown",
   "metadata": {},
   "source": [
    "## 1.读取数据并分析"
   ]
  },
  {
   "cell_type": "code",
   "execution_count": 2,
   "metadata": {},
   "outputs": [],
   "source": [
    "import pandas as pd\n",
    "import numpy as np\n",
    "import matplotlib.pyplot as plt"
   ]
  },
  {
   "cell_type": "code",
   "execution_count": 3,
   "metadata": {
    "scrolled": true
   },
   "outputs": [
    {
     "data": {
      "text/html": [
       "<div>\n",
       "<style scoped>\n",
       "    .dataframe tbody tr th:only-of-type {\n",
       "        vertical-align: middle;\n",
       "    }\n",
       "\n",
       "    .dataframe tbody tr th {\n",
       "        vertical-align: top;\n",
       "    }\n",
       "\n",
       "    .dataframe thead th {\n",
       "        text-align: right;\n",
       "    }\n",
       "</style>\n",
       "<table border=\"1\" class=\"dataframe\">\n",
       "  <thead>\n",
       "    <tr style=\"text-align: right;\">\n",
       "      <th></th>\n",
       "      <th>userId</th>\n",
       "      <th>movieId</th>\n",
       "      <th>rating</th>\n",
       "    </tr>\n",
       "  </thead>\n",
       "  <tbody>\n",
       "    <tr>\n",
       "      <th>0</th>\n",
       "      <td>1</td>\n",
       "      <td>2</td>\n",
       "      <td>3.5</td>\n",
       "    </tr>\n",
       "    <tr>\n",
       "      <th>1</th>\n",
       "      <td>1</td>\n",
       "      <td>29</td>\n",
       "      <td>3.5</td>\n",
       "    </tr>\n",
       "    <tr>\n",
       "      <th>2</th>\n",
       "      <td>1</td>\n",
       "      <td>32</td>\n",
       "      <td>3.5</td>\n",
       "    </tr>\n",
       "    <tr>\n",
       "      <th>3</th>\n",
       "      <td>1</td>\n",
       "      <td>47</td>\n",
       "      <td>3.5</td>\n",
       "    </tr>\n",
       "    <tr>\n",
       "      <th>4</th>\n",
       "      <td>1</td>\n",
       "      <td>50</td>\n",
       "      <td>3.5</td>\n",
       "    </tr>\n",
       "  </tbody>\n",
       "</table>\n",
       "</div>"
      ],
      "text/plain": [
       "   userId  movieId  rating\n",
       "0       1        2     3.5\n",
       "1       1       29     3.5\n",
       "2       1       32     3.5\n",
       "3       1       47     3.5\n",
       "4       1       50     3.5"
      ]
     },
     "execution_count": 3,
     "metadata": {},
     "output_type": "execute_result"
    }
   ],
   "source": [
    "# 读取rating.csv，读取的列为：userId，movieId，rating\n",
    "df_data = pd.read_csv('./data/rating.csv',sep=',',usecols=['userId','movieId','rating'])\n",
    "# 打印前5行\n",
    "df_data.head()"
   ]
  },
  {
   "cell_type": "code",
   "execution_count": 4,
   "metadata": {
    "scrolled": false
   },
   "outputs": [
    {
     "data": {
      "text/plain": [
       "296    67310\n",
       "356    66172\n",
       "318    63366\n",
       "593    63299\n",
       "480    59715\n",
       "Name: movieId, dtype: int64"
      ]
     },
     "execution_count": 4,
     "metadata": {},
     "output_type": "execute_result"
    }
   ],
   "source": [
    "# 每个电影id对应的打分次数\n",
    "movie_rating_count = df_data['movieId'].value_counts()\n",
    "# 打印前5行\n",
    "movie_rating_count.head()"
   ]
  },
  {
   "cell_type": "code",
   "execution_count": 5,
   "metadata": {
    "scrolled": false
   },
   "outputs": [
    {
     "name": "stdout",
     "output_type": "stream",
     "text": [
      "0    67310\n",
      "1    66172\n",
      "2    63366\n",
      "3    63299\n",
      "4    59715\n",
      "Name: movieId, dtype: int64\n"
     ]
    },
    {
     "data": {
      "image/png": "[encoded data removed]",
      "text/plain": [
       "<Figure size 432x288 with 1 Axes>"
      ]
     },
     "metadata": {
      "needs_background": "light"
     },
     "output_type": "display_data"
    }
   ],
   "source": [
    "# 深度拷贝一个movie_rating_count\n",
    "movie_rating_count2  = movie_rating_count.copy()\n",
    "# 重置索引，方便画图\n",
    "movie_rating_count2.index = range(movie_rating_count.count())\n",
    "print(movie_rating_count2.head())\n",
    "# 横坐标为充值后的索引，纵坐标为打分次数\n",
    "plt.plot(movie_rating_count2.index,movie_rating_count2)\n",
    "plt.xlabel('Rating Count')\n",
    "plt.ylabel('Movie Index')\n",
    "plt.title('Movie Rating Count')\n",
    "plt.show()"
   ]
  },
  {
   "cell_type": "code",
   "execution_count": 6,
   "metadata": {
    "scrolled": true
   },
   "outputs": [
    {
     "name": "stdout",
     "output_type": "stream",
     "text": [
      "123607    1\n",
      "90823     1\n",
      "123609    1\n",
      "123613    1\n",
      "131136    1\n",
      "Name: movieId, dtype: int64\n",
      "最大的商品index： 131262\n",
      "总打分数是： 20000263\n",
      "参与评论的电影数量： 26744\n"
     ]
    }
   ],
   "source": [
    "print(movie_rating_count.tail())\n",
    "# 数据集中出现的最大的电影id\n",
    "movie_id_max = movie_rating_count.index.max()\n",
    "print('最大的商品index：',movie_id_max)\n",
    "\n",
    "# 总打分数\n",
    "total_rating_count = sum(movie_rating_count)\n",
    "print('总打分数是：',total_rating_count)\n",
    "\n",
    "# 参与评论的电影数量：movie_quantity = len(movie_rating_count)也可以\n",
    "movie_quantity = movie_rating_count.count()\n",
    "print('参与评论的电影数量：',movie_quantity)"
   ]
  },
  {
   "cell_type": "markdown",
   "metadata": {},
   "source": [
    "## 2.计算信息熵"
   ]
  },
  {
   "cell_type": "markdown",
   "metadata": {},
   "source": [
    "\n",
    "$$\n",
    "信息熵：H = -\\sum_{i=1}^n p(i)\\log p(i)\n",
    "$$\n",
    "\n",
    "$$ p(i)为事件i出现的概率  $$\n",
    "\n",
    "$$ n为事件总数 $$"
   ]
  },
  {
   "cell_type": "markdown",
   "metadata": {},
   "source": [
    "logp(i)通常是小于0的，所以信息熵前面加个负号，使得求出的信息熵为正数"
   ]
  },
  {
   "cell_type": "code",
   "execution_count": 7,
   "metadata": {
    "scrolled": true
   },
   "outputs": [
    {
     "name": "stdout",
     "output_type": "stream",
     "text": [
      "8.029825085551415\n"
     ]
    }
   ],
   "source": [
    "# 计算信息熵\n",
    "h = 0\n",
    "for rating_count in movie_rating_count:\n",
    "    # 每个电影被评分的次数 除以 所有电影被评分的总次数\n",
    "    p = rating_count / total_rating_count\n",
    "    logp = np.log(p)\n",
    "    h += -1 * p * logp\n",
    "print(h)"
   ]
  },
  {
   "cell_type": "markdown",
   "metadata": {},
   "source": [
    "## 3. 计算基尼系数"
   ]
  },
  {
   "cell_type": "markdown",
   "metadata": {},
   "source": [
    "\n",
    "$$\n",
    "基尼系数：G = \\frac {1} {n-1} \\sum_{j=1}^n (2j-n-1)p(i_j)\n",
    "$$\n",
    "\n",
    "$$ i_j  是按照物品流行度p从小到大排序的物品列表中第j个物品  $$\n",
    "\n",
    "$$ 如果物品流行度很平均，基尼系数G就会变小 $$"
   ]
  },
  {
   "cell_type": "markdown",
   "metadata": {},
   "source": [
    "基尼系数的特质是：\n",
    "\n",
    "1. 类别个数越少，基尼系数越低;    \n",
    "2. 类别个数相同时，类别集中度越高，基尼系数越低。\n",
    "\n",
    "当类别越少，类别集中度越高的时候，基尼系数越低；当类别越多，类别集中度越低的时候，基尼系数越高。\n",
    "\n",
    "【类别集中度是指类别的概率差距，0.9+0.1的概率组合，比起0.5+0.5的概率组合集中度更高】"
   ]
  },
  {
   "cell_type": "code",
   "execution_count": 8,
   "metadata": {},
   "outputs": [
    {
     "name": "stdout",
     "output_type": "stream",
     "text": [
      "0.9029762612602118\n"
     ]
    }
   ],
   "source": [
    "# 计算基尼系数，如果物品流行度很平均，基尼系数G就会变小\n",
    "gini_index = 0\n",
    "for index in range(len(movie_rating_count)):\n",
    "    p = movie_rating_count.iloc[index] / total_rating_count\n",
    "    # j是根据流行度从小到大排列的列表中，第j个电影，而movie_rating_count中是根据打分次数从大到小排列的\n",
    "    j = movie_quantity - index                      # j = n - i \n",
    "    gini_index += (2 * j - movie_quantity -1) * p  #  2j - n - 1\n",
    "gini_index = gini_index / (movie_quantity - 1)\n",
    "print(gini_index)"
   ]
  },
  {
   "cell_type": "markdown",
   "metadata": {},
   "source": [
    "## 4.计算覆盖度"
   ]
  },
  {
   "cell_type": "markdown",
   "metadata": {},
   "source": [
    "- 覆盖度：能够推荐出来的物品种类总数占总物品种类集合的比例\n",
    "\n",
    "$$ Coverage = \\frac{U_{u\\in{V}} \\dot R(u)}{|I|} $$ \n",
    "\n",
    "$$ R(u)对用户推荐的推荐列表 $$\n",
    "\n",
    "$$ U 用户集合 $$\n",
    "\n",
    "$$ I 总物品集合 $$\n"
   ]
  },
  {
   "cell_type": "code",
   "execution_count": 9,
   "metadata": {},
   "outputs": [
    {
     "name": "stdout",
     "output_type": "stream",
     "text": [
      "0.20374518139293932\n"
     ]
    }
   ],
   "source": [
    "# 计算覆盖度，这里把电影id的最大值记为总电影数目，把评分过的电影，记为推荐过的电影\n",
    "coverage = movie_quantity / movie_id_max\n",
    "print(coverage)"
   ]
  }
 ],
 "metadata": {
  "kernelspec": {
   "display_name": "Python 3",
   "language": "python",
   "name": "python3"
  },
  "language_info": {
   "codemirror_mode": {
    "name": "ipython",
    "version": 3
   },
   "file_extension": ".py",
   "mimetype": "text/x-python",
   "name": "python",
   "nbconvert_exporter": "python",
   "pygments_lexer": "ipython3",
   "version": "3.7.5"
  }
 },
 "nbformat": 4,
 "nbformat_minor": 2
}
