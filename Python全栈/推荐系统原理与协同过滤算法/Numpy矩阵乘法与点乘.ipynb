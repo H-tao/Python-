{
 "cells": [
  {
   "cell_type": "markdown",
   "metadata": {},
   "source": [
    "## 1.Numpy.dot()\n",
    "1. 一维矩阵：计算内积\n",
    "    - dot( **1 x n , 1 x n** ) = 一个数\n",
    "2. 二维矩阵：线性代数矩阵相乘(n x m)·(m x s)\n",
    "    - dot( **n x m , m x s** ) = n x s"
   ]
  },
  {
   "cell_type": "code",
   "execution_count": 21,
   "metadata": {},
   "outputs": [
    {
     "name": "stdout",
     "output_type": "stream",
     "text": [
      "[[22 28]\n",
      " [49 64]]\n",
      "32\n"
     ]
    }
   ],
   "source": [
    "import numpy as np\n",
    "\n",
    "# 1. 一维矩阵：计算内积\n",
    "# 1 x 3 \n",
    "one_and_three_a = np.array([1, 2, 3])\n",
    "# 1 x 3\n",
    "one_and_three_b = np.array([4, 5, 6])\n",
    "# 1 x 3  dot  1 x 3\n",
    "result_1x3_dot_1x3 = np.dot(one_and_three_a, one_and_three_b)\n",
    "print(result_1x3_dot_1x3)\n",
    "# print(f'{one_and_three_a} \\n   x\\n {one_and_three_b}:\\n   = \\n {result_1x3_dot_1x3}')\n",
    "\n",
    "# 2. 二维矩阵：线性代数矩阵相乘\n",
    "# 2 x 3\n",
    "two_and_three = np.array([[1, 2, 3], [4, 5, 6]])\n",
    "# 3 x 2\n",
    "three_and_two = np.array([[1, 2], [3, 4], [5, 6]])\n",
    "# 2 x 3  dot  3 x 2\n",
    "result_2x3_dot_3x2 = np.dot(two_and_three, three_and_two)\n",
    "print(result_2x3_dot_3x2)\n",
    "# print(f'{two_and_three} \\n   x\\n {three_and_two}:\\n   = \\n {result_2x3_dot_3x2}\\n\\n')"
   ]
  },
  {
   "cell_type": "markdown",
   "metadata": {},
   "source": [
    "## 2.Numpy.multiply()  和 \" * \"——对应元素相乘\n",
    " _**两个矩阵必须行列相同**_\n",
    " \n",
    "1. 矩阵维数：\n",
    "\n",
    "    multiply( **n x m** , **n x m** ) = n x m\n",
    "\n",
    "    ( **n x m** ) * ( **n x m** ) = n x m\n",
    "    \n",
    "\n",
    "2. 示例：\n",
    "\n",
    "    multiply([[1, 2],[3, 4]], [[5, 6],[7, 8]) \n",
    "    \n",
    "    = [[1x5, 2x6], [3x7, 4x8]] \n",
    "    \n",
    "    = [[5, 12], [21, 32]]"
   ]
  },
  {
   "cell_type": "code",
   "execution_count": 27,
   "metadata": {},
   "outputs": [
    {
     "name": "stdout",
     "output_type": "stream",
     "text": [
      "[[ 7 16 27]\n",
      " [40 55 72]]\n",
      "[[ 7 16 27]\n",
      " [40 55 72]]\n"
     ]
    }
   ],
   "source": [
    "import numpy as np\n",
    "\n",
    "# 2 x 3\n",
    "two_and_three_a = np.array([[1, 2, 3], [4, 5, 6]])\n",
    "two_and_three_b = np.array([[7, 8, 9], [10, 11, 12]])\n",
    "\n",
    "# 对应元素相乘\n",
    "result_a = two_and_three_a * two_and_three_b\n",
    "print(result_a)\n",
    "\n",
    "# 对应元素相乘\n",
    "result_b = np.multiply(two_and_three_a, two_and_three_b)\n",
    "print(result_b)"
   ]
  }
 ],
 "metadata": {
  "kernelspec": {
   "display_name": "Python 3",
   "language": "python",
   "name": "python3"
  },
  "language_info": {
   "codemirror_mode": {
    "name": "ipython",
    "version": 3
   },
   "file_extension": ".py",
   "mimetype": "text/x-python",
   "name": "python",
   "nbconvert_exporter": "python",
   "pygments_lexer": "ipython3",
   "version": "3.7.5"
  }
 },
 "nbformat": 4,
 "nbformat_minor": 2
}
