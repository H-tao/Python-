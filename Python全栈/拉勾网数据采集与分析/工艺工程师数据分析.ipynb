{
 "cells": [
  {
   "cell_type": "code",
   "execution_count": 1,
   "metadata": {},
   "outputs": [],
   "source": [
    "import pyforest\n",
    "import wordcloud"
   ]
  },
  {
   "cell_type": "code",
   "execution_count": 2,
   "metadata": {},
   "outputs": [
    {
     "data": {
      "application/javascript": [
       "\n",
       "        if (window._pyforest_update_imports_cell) { window._pyforest_update_imports_cell('import pandas as pd'); }\n",
       "    "
      ],
      "text/plain": [
       "<IPython.core.display.Javascript object>"
      ]
     },
     "metadata": {},
     "output_type": "display_data"
    },
    {
     "data": {
      "application/javascript": [
       "\n",
       "        if (window._pyforest_update_imports_cell) { window._pyforest_update_imports_cell('import numpy as np\\nimport pandas as pd'); }\n",
       "    "
      ],
      "text/plain": [
       "<IPython.core.display.Javascript object>"
      ]
     },
     "metadata": {},
     "output_type": "display_data"
    },
    {
     "data": {
      "application/javascript": [
       "\n",
       "        if (window._pyforest_update_imports_cell) { window._pyforest_update_imports_cell('import numpy as np\\nimport pandas as pd'); }\n",
       "    "
      ],
      "text/plain": [
       "<IPython.core.display.Javascript object>"
      ]
     },
     "metadata": {},
     "output_type": "display_data"
    },
    {
     "data": {
      "text/html": [
       "<div>\n",
       "<style scoped>\n",
       "    .dataframe tbody tr th:only-of-type {\n",
       "        vertical-align: middle;\n",
       "    }\n",
       "\n",
       "    .dataframe tbody tr th {\n",
       "        vertical-align: top;\n",
       "    }\n",
       "\n",
       "    .dataframe thead th {\n",
       "        text-align: right;\n",
       "    }\n",
       "</style>\n",
       "<table border=\"1\" class=\"dataframe\">\n",
       "  <thead>\n",
       "    <tr style=\"text-align: right;\">\n",
       "      <th></th>\n",
       "      <th>id</th>\n",
       "      <th>keyword</th>\n",
       "      <th>detail_url</th>\n",
       "      <th>position</th>\n",
       "      <th>tags</th>\n",
       "      <th>salary</th>\n",
       "      <th>job_type</th>\n",
       "      <th>city</th>\n",
       "      <th>district</th>\n",
       "      <th>street</th>\n",
       "      <th>education</th>\n",
       "      <th>work_experience</th>\n",
       "      <th>release_date</th>\n",
       "      <th>desciption</th>\n",
       "      <th>company_name</th>\n",
       "      <th>company_scale</th>\n",
       "      <th>company_field</th>\n",
       "      <th>company_type</th>\n",
       "      <th>company_benefits</th>\n",
       "    </tr>\n",
       "  </thead>\n",
       "  <tbody>\n",
       "    <tr>\n",
       "      <th>0</th>\n",
       "      <td>1</td>\n",
       "      <td>工艺工程师</td>\n",
       "      <td>https://www.lagou.com/jobs/6823028.html</td>\n",
       "      <td>工艺工程师</td>\n",
       "      <td>智能硬件</td>\n",
       "      <td>5k-10k</td>\n",
       "      <td>全职</td>\n",
       "      <td>广州</td>\n",
       "      <td>南沙区</td>\n",
       "      <td>榄核镇顺河村平顺街16号万隆工业园</td>\n",
       "      <td>大专及以上</td>\n",
       "      <td>3-5年</td>\n",
       "      <td>2020-03-27</td>\n",
       "      <td>岗位职责：1、负责新产品的导入、试产的安排、生产指导；开发过程对生产工艺、产品性能、组装进行...</td>\n",
       "      <td>GANcube</td>\n",
       "      <td>150-500人</td>\n",
       "      <td>文娱丨内容,其他</td>\n",
       "      <td>未融资</td>\n",
       "      <td>优秀团队|五险一金|行业**|智能科技</td>\n",
       "    </tr>\n",
       "    <tr>\n",
       "      <th>1</th>\n",
       "      <td>2</td>\n",
       "      <td>工艺工程师</td>\n",
       "      <td>https://www.lagou.com/jobs/6934285.html</td>\n",
       "      <td>工艺工程师</td>\n",
       "      <td>电路设计|硬件开发|系统集成</td>\n",
       "      <td>5k-8k</td>\n",
       "      <td>全职</td>\n",
       "      <td>上海</td>\n",
       "      <td>浦东新区</td>\n",
       "      <td>广丹路222弄2号楼</td>\n",
       "      <td>本科及以上</td>\n",
       "      <td>应届毕业生</td>\n",
       "      <td>2020-03-27</td>\n",
       "      <td>1、负责公司工艺技术工作和工艺管理工作。组织制定工艺技术工作近期和长远发展规划，并制定技术组...</td>\n",
       "      <td>纳米维景医疗科技</td>\n",
       "      <td>50-150人</td>\n",
       "      <td>医疗丨健康,软件开发</td>\n",
       "      <td>天使轮</td>\n",
       "      <td>二次调薪|补充医疗</td>\n",
       "    </tr>\n",
       "    <tr>\n",
       "      <th>2</th>\n",
       "      <td>3</td>\n",
       "      <td>工艺工程师</td>\n",
       "      <td>https://www.lagou.com/jobs/6912492.html</td>\n",
       "      <td>工艺工程师</td>\n",
       "      <td>医疗健康</td>\n",
       "      <td>6k-8k</td>\n",
       "      <td>全职</td>\n",
       "      <td>深圳</td>\n",
       "      <td>南山区</td>\n",
       "      <td>桃源街道平山民企科技园6B栋2层201</td>\n",
       "      <td>大专及以上</td>\n",
       "      <td>1-3年</td>\n",
       "      <td>2020-03-26</td>\n",
       "      <td>素质要求：1.电子、电气、机械相关专业大专及以上学历；2.一年以上PCBA维修工作经验，一年...</td>\n",
       "      <td>普特生物医学</td>\n",
       "      <td>150-500人</td>\n",
       "      <td>医疗丨健康</td>\n",
       "      <td>不需要融资</td>\n",
       "      <td>周末双休|项目奖金|地铁沿线|发展机会</td>\n",
       "    </tr>\n",
       "    <tr>\n",
       "      <th>3</th>\n",
       "      <td>4</td>\n",
       "      <td>工艺工程师</td>\n",
       "      <td>https://www.lagou.com/jobs/6592382.html</td>\n",
       "      <td>PE工程师（生产工艺）-深圳</td>\n",
       "      <td>智能硬件|移动互联网</td>\n",
       "      <td>10k-20k</td>\n",
       "      <td>全职</td>\n",
       "      <td>深圳</td>\n",
       "      <td>南山区</td>\n",
       "      <td>后海大道2378号芒果网大厦1901室</td>\n",
       "      <td>本科及以上</td>\n",
       "      <td>5-10年</td>\n",
       "      <td>2020-03-27</td>\n",
       "      <td>工作职责：1、负责新产品开发过程中可制造性设计评审和验证；2、负责新产品导入相关工作，试制生...</td>\n",
       "      <td>涂鸦智能</td>\n",
       "      <td>500-2000人</td>\n",
       "      <td>移动互联网,硬件</td>\n",
       "      <td>C轮</td>\n",
       "      <td>独角兽|行业精英</td>\n",
       "    </tr>\n",
       "    <tr>\n",
       "      <th>4</th>\n",
       "      <td>5</td>\n",
       "      <td>工艺工程师</td>\n",
       "      <td>https://www.lagou.com/jobs/6778090.html</td>\n",
       "      <td>工艺设计工程师</td>\n",
       "      <td>电子/半导体/集成电路</td>\n",
       "      <td>7k-9k</td>\n",
       "      <td>全职</td>\n",
       "      <td>济南</td>\n",
       "      <td>高新区</td>\n",
       "      <td>舜华西路699号神思科技园</td>\n",
       "      <td>本科及以上</td>\n",
       "      <td>1-3年</td>\n",
       "      <td>2020-03-27</td>\n",
       "      <td>岗位职责：1、负责终端产品设计、开发、制造过程中的工艺技术部分，配合项目组负责人完成项目产品...</td>\n",
       "      <td>神思电子</td>\n",
       "      <td>500-2000人</td>\n",
       "      <td>人工智能</td>\n",
       "      <td>上市公司</td>\n",
       "      <td>五险一金|餐补|带薪年假|节日福利</td>\n",
       "    </tr>\n",
       "    <tr>\n",
       "      <th>5</th>\n",
       "      <td>6</td>\n",
       "      <td>工艺工程师</td>\n",
       "      <td>https://www.lagou.com/jobs/6866945.html</td>\n",
       "      <td>整机工艺工程师</td>\n",
       "      <td>硬件制造|汽车</td>\n",
       "      <td>25k-40k</td>\n",
       "      <td>全职</td>\n",
       "      <td>东莞</td>\n",
       "      <td>东莞市市辖区</td>\n",
       "      <td>溪流背坡村</td>\n",
       "      <td>本科及以上</td>\n",
       "      <td>5-10年</td>\n",
       "      <td>2020-03-27</td>\n",
       "      <td>工作地点：西安、东莞、上海岗位职责：1.参与项目整机设计各阶段的设计评审2.与各领域进行交流...</td>\n",
       "      <td>华为技术有限公司</td>\n",
       "      <td>2000人以上</td>\n",
       "      <td>通讯电子</td>\n",
       "      <td>不需要融资</td>\n",
       "      <td>竞争力的薪资|奖金回报|股权激励</td>\n",
       "    </tr>\n",
       "    <tr>\n",
       "      <th>6</th>\n",
       "      <td>7</td>\n",
       "      <td>工艺工程师</td>\n",
       "      <td>https://www.lagou.com/jobs/6861160.html</td>\n",
       "      <td>百度地图工艺工程师</td>\n",
       "      <td>地图|移动互联网</td>\n",
       "      <td>15k-20k</td>\n",
       "      <td>全职</td>\n",
       "      <td>北京</td>\n",
       "      <td>海淀区</td>\n",
       "      <td>高科岭17号楼北楼3层</td>\n",
       "      <td>本科及以上</td>\n",
       "      <td>1-3年</td>\n",
       "      <td>2020-03-27</td>\n",
       "      <td>工作职责：1、负责情报生产工艺的优化；2、负责情报生产相关规范的制定和编写；3、负责生产问题...</td>\n",
       "      <td>长地万方</td>\n",
       "      <td>2000人以上</td>\n",
       "      <td>数据服务,移动互联网</td>\n",
       "      <td>上市公司</td>\n",
       "      <td>弹性工作|发展空间大|平台高|领导好</td>\n",
       "    </tr>\n",
       "    <tr>\n",
       "      <th>7</th>\n",
       "      <td>8</td>\n",
       "      <td>工艺工程师</td>\n",
       "      <td>https://www.lagou.com/jobs/6848174.html</td>\n",
       "      <td>百度高精地图工艺工程师</td>\n",
       "      <td>地图|移动互联网|数据分析</td>\n",
       "      <td>10k-15k</td>\n",
       "      <td>全职</td>\n",
       "      <td>北京</td>\n",
       "      <td>海淀区</td>\n",
       "      <td>高科岭17号楼北楼3层</td>\n",
       "      <td>本科及以上</td>\n",
       "      <td>1-3年</td>\n",
       "      <td>2020-03-27</td>\n",
       "      <td>职责描述：1、负责定义数据规格、制定产品工艺方案、标准规范；2、负责地图数据发展趋势，竞品分...</td>\n",
       "      <td>长地万方</td>\n",
       "      <td>2000人以上</td>\n",
       "      <td>数据服务,移动互联网</td>\n",
       "      <td>上市公司</td>\n",
       "      <td>弹性工作|发展空间大|平台高|领导好</td>\n",
       "    </tr>\n",
       "    <tr>\n",
       "      <th>8</th>\n",
       "      <td>9</td>\n",
       "      <td>工艺工程师</td>\n",
       "      <td>https://www.lagou.com/jobs/6911835.html</td>\n",
       "      <td>汽车技术支持工程师（总装工艺）</td>\n",
       "      <td>汽车</td>\n",
       "      <td>10k-15k</td>\n",
       "      <td>全职</td>\n",
       "      <td>广州</td>\n",
       "      <td>天河区</td>\n",
       "      <td>松岗大街8号小鹏汽车智能产业园区</td>\n",
       "      <td>本科及以上</td>\n",
       "      <td>3-5年</td>\n",
       "      <td>2020-03-27</td>\n",
       "      <td>主要职责：1.制订车辆维修性技术条件、维修性检查与验证、竞品车辆维修性优缺点分析报告；2.独...</td>\n",
       "      <td>小鹏汽车</td>\n",
       "      <td>2000人以上</td>\n",
       "      <td>汽车丨出行</td>\n",
       "      <td>B轮</td>\n",
       "      <td>互联网大厂|行业领先</td>\n",
       "    </tr>\n",
       "    <tr>\n",
       "      <th>9</th>\n",
       "      <td>10</td>\n",
       "      <td>工艺工程师</td>\n",
       "      <td>https://www.lagou.com/jobs/6773762.html</td>\n",
       "      <td>Mini LED设备与工艺工程师(...</td>\n",
       "      <td>电子/半导体/集成电路</td>\n",
       "      <td>6k-12k</td>\n",
       "      <td>全职</td>\n",
       "      <td>北京</td>\n",
       "      <td>大兴区</td>\n",
       "      <td>亦庄经济技术开发区西环中路</td>\n",
       "      <td>本科及以上</td>\n",
       "      <td>1-3年</td>\n",
       "      <td>2020-03-26</td>\n",
       "      <td>工作职责:1、生产工艺优化及配套生产设备检讨；2、设备工艺参数调整、管理及生产保障；3、不良...</td>\n",
       "      <td>京东方</td>\n",
       "      <td>2000人以上</td>\n",
       "      <td>物联网</td>\n",
       "      <td>上市公司</td>\n",
       "      <td>发展前景好|新兴领域</td>\n",
       "    </tr>\n",
       "  </tbody>\n",
       "</table>\n",
       "</div>"
      ],
      "text/plain": [
       "   id keyword                               detail_url              position  \\\n",
       "0   1   工艺工程师  https://www.lagou.com/jobs/6823028.html                 工艺工程师   \n",
       "1   2   工艺工程师  https://www.lagou.com/jobs/6934285.html                 工艺工程师   \n",
       "2   3   工艺工程师  https://www.lagou.com/jobs/6912492.html                 工艺工程师   \n",
       "3   4   工艺工程师  https://www.lagou.com/jobs/6592382.html        PE工程师（生产工艺）-深圳   \n",
       "4   5   工艺工程师  https://www.lagou.com/jobs/6778090.html               工艺设计工程师   \n",
       "5   6   工艺工程师  https://www.lagou.com/jobs/6866945.html               整机工艺工程师   \n",
       "6   7   工艺工程师  https://www.lagou.com/jobs/6861160.html             百度地图工艺工程师   \n",
       "7   8   工艺工程师  https://www.lagou.com/jobs/6848174.html           百度高精地图工艺工程师   \n",
       "8   9   工艺工程师  https://www.lagou.com/jobs/6911835.html       汽车技术支持工程师（总装工艺）   \n",
       "9  10   工艺工程师  https://www.lagou.com/jobs/6773762.html  Mini LED设备与工艺工程师(...   \n",
       "\n",
       "             tags   salary job_type city district               street  \\\n",
       "0            智能硬件   5k-10k       全职   广州      南沙区    榄核镇顺河村平顺街16号万隆工业园   \n",
       "1  电路设计|硬件开发|系统集成    5k-8k       全职   上海     浦东新区           广丹路222弄2号楼   \n",
       "2            医疗健康    6k-8k       全职   深圳      南山区  桃源街道平山民企科技园6B栋2层201   \n",
       "3      智能硬件|移动互联网  10k-20k       全职   深圳      南山区  后海大道2378号芒果网大厦1901室   \n",
       "4     电子/半导体/集成电路    7k-9k       全职   济南      高新区        舜华西路699号神思科技园   \n",
       "5         硬件制造|汽车  25k-40k       全职   东莞   东莞市市辖区                溪流背坡村   \n",
       "6        地图|移动互联网  15k-20k       全职   北京      海淀区          高科岭17号楼北楼3层   \n",
       "7   地图|移动互联网|数据分析  10k-15k       全职   北京      海淀区          高科岭17号楼北楼3层   \n",
       "8              汽车  10k-15k       全职   广州      天河区     松岗大街8号小鹏汽车智能产业园区   \n",
       "9     电子/半导体/集成电路   6k-12k       全职   北京      大兴区        亦庄经济技术开发区西环中路   \n",
       "\n",
       "  education work_experience release_date  \\\n",
       "0     大专及以上            3-5年   2020-03-27   \n",
       "1     本科及以上           应届毕业生   2020-03-27   \n",
       "2     大专及以上            1-3年   2020-03-26   \n",
       "3     本科及以上           5-10年   2020-03-27   \n",
       "4     本科及以上            1-3年   2020-03-27   \n",
       "5     本科及以上           5-10年   2020-03-27   \n",
       "6     本科及以上            1-3年   2020-03-27   \n",
       "7     本科及以上            1-3年   2020-03-27   \n",
       "8     本科及以上            3-5年   2020-03-27   \n",
       "9     本科及以上            1-3年   2020-03-26   \n",
       "\n",
       "                                          desciption company_name  \\\n",
       "0  岗位职责：1、负责新产品的导入、试产的安排、生产指导；开发过程对生产工艺、产品性能、组装进行...      GANcube   \n",
       "1  1、负责公司工艺技术工作和工艺管理工作。组织制定工艺技术工作近期和长远发展规划，并制定技术组...     纳米维景医疗科技   \n",
       "2  素质要求：1.电子、电气、机械相关专业大专及以上学历；2.一年以上PCBA维修工作经验，一年...       普特生物医学   \n",
       "3  工作职责：1、负责新产品开发过程中可制造性设计评审和验证；2、负责新产品导入相关工作，试制生...         涂鸦智能   \n",
       "4  岗位职责：1、负责终端产品设计、开发、制造过程中的工艺技术部分，配合项目组负责人完成项目产品...         神思电子   \n",
       "5  工作地点：西安、东莞、上海岗位职责：1.参与项目整机设计各阶段的设计评审2.与各领域进行交流...     华为技术有限公司   \n",
       "6  工作职责：1、负责情报生产工艺的优化；2、负责情报生产相关规范的制定和编写；3、负责生产问题...         长地万方   \n",
       "7  职责描述：1、负责定义数据规格、制定产品工艺方案、标准规范；2、负责地图数据发展趋势，竞品分...         长地万方   \n",
       "8  主要职责：1.制订车辆维修性技术条件、维修性检查与验证、竞品车辆维修性优缺点分析报告；2.独...         小鹏汽车   \n",
       "9  工作职责:1、生产工艺优化及配套生产设备检讨；2、设备工艺参数调整、管理及生产保障；3、不良...          京东方   \n",
       "\n",
       "  company_scale company_field company_type     company_benefits  \n",
       "0      150-500人      文娱丨内容,其他          未融资  优秀团队|五险一金|行业**|智能科技  \n",
       "1       50-150人    医疗丨健康,软件开发          天使轮            二次调薪|补充医疗  \n",
       "2      150-500人         医疗丨健康        不需要融资  周末双休|项目奖金|地铁沿线|发展机会  \n",
       "3     500-2000人      移动互联网,硬件           C轮             独角兽|行业精英  \n",
       "4     500-2000人          人工智能         上市公司    五险一金|餐补|带薪年假|节日福利  \n",
       "5       2000人以上          通讯电子        不需要融资     竞争力的薪资|奖金回报|股权激励  \n",
       "6       2000人以上    数据服务,移动互联网         上市公司   弹性工作|发展空间大|平台高|领导好  \n",
       "7       2000人以上    数据服务,移动互联网         上市公司   弹性工作|发展空间大|平台高|领导好  \n",
       "8       2000人以上         汽车丨出行           B轮           互联网大厂|行业领先  \n",
       "9       2000人以上           物联网         上市公司           发展前景好|新兴领域  "
      ]
     },
     "execution_count": 2,
     "metadata": {},
     "output_type": "execute_result"
    }
   ],
   "source": [
    "data = pd.read_csv('gongyigongchengshi.csv', sep='\\t', encoding=\"utf-8\", header=None,\n",
    "                   names = ['id', 'keyword', 'detail_url', 'position', 'tags', 'salary', 'job_type', 'city', 'district', 'street','education', 'work_experience', 'release_date', 'desciption', 'company_name','company_scale', 'company_field', 'company_type', 'company_benefits'],\n",
    "                   dtype = {'id':np.int8, 'salary': np.str_}\n",
    "#                    dtype = {'id': np.int8, 'keyword': str, 'detail_url': str, 'position': str, 'tags': str , 'salary': str, 'job_type': str, 'city': str, 'district': str, 'street': str,'education': str, 'work_experience': str, 'release_date': str, 'desciption': str, 'company_name': str,'company_scale': str, 'company_field': str, 'company_type': str, 'company_benefits': str}\n",
    "                   \n",
    ")\n",
    "data.head(10)"
   ]
  },
  {
   "cell_type": "code",
   "execution_count": 3,
   "metadata": {},
   "outputs": [
    {
     "data": {
      "application/javascript": [
       "\n",
       "        if (window._pyforest_update_imports_cell) { window._pyforest_update_imports_cell('import numpy as np\\nimport matplotlib.pyplot as plt\\nimport pandas as pd'); }\n",
       "    "
      ],
      "text/plain": [
       "<IPython.core.display.Javascript object>"
      ]
     },
     "metadata": {},
     "output_type": "display_data"
    },
    {
     "data": {
      "application/javascript": [
       "\n",
       "        if (window._pyforest_update_imports_cell) { window._pyforest_update_imports_cell('import numpy as np\\nimport matplotlib.pyplot as plt\\nimport pandas as pd'); }\n",
       "    "
      ],
      "text/plain": [
       "<IPython.core.display.Javascript object>"
      ]
     },
     "metadata": {},
     "output_type": "display_data"
    },
    {
     "data": {
      "application/javascript": [
       "\n",
       "        if (window._pyforest_update_imports_cell) { window._pyforest_update_imports_cell('import numpy as np\\nimport matplotlib.pyplot as plt\\nimport pandas as pd'); }\n",
       "    "
      ],
      "text/plain": [
       "<IPython.core.display.Javascript object>"
      ]
     },
     "metadata": {},
     "output_type": "display_data"
    },
    {
     "data": {
      "application/javascript": [
       "\n",
       "        if (window._pyforest_update_imports_cell) { window._pyforest_update_imports_cell('import numpy as np\\nimport matplotlib.pyplot as plt\\nimport pandas as pd'); }\n",
       "    "
      ],
      "text/plain": [
       "<IPython.core.display.Javascript object>"
      ]
     },
     "metadata": {},
     "output_type": "display_data"
    },
    {
     "data": {
      "text/plain": [
       "Text(0.5, 1.0, '工资分布直方图')"
      ]
     },
     "execution_count": 3,
     "metadata": {},
     "output_type": "execute_result"
    },
    {
     "data": {
      "image/png": "[encoded data removed]",
      "text/plain": [
       "<Figure size 432x288 with 1 Axes>"
      ]
     },
     "metadata": {
      "needs_background": "light"
     },
     "output_type": "display_data"
    }
   ],
   "source": [
    "# 从表中可以看出，薪水一列是采用“最低-最高”的区间的方式进行表示的，这里我们将其转换成平均值，这里我们将工资中的‘k’、‘K’换成数字，便于计算。\n",
    "min_ = data['salary'].str.split('-').str[0].str.rstrip('k').str.rstrip('K').astype('float64')*1000\n",
    "max_ = data['salary'].str.split('-').str[1].str.rstrip('k').str.rstrip('K').astype('float64')*1000\n",
    "salary = (min_ + max_) * 0.5\n",
    "plt.hist(salary,10,facecolor = 'r')\n",
    "plt.xlabel('工资',fontproperties = 'SimHei')\n",
    "plt.ylabel('公司数量',fontproperties = 'SimHei')\n",
    "plt.title('工资分布直方图',fontproperties = 'SimHei')"
   ]
  },
  {
   "cell_type": "code",
   "execution_count": 4,
   "metadata": {},
   "outputs": [
    {
     "data": {
      "application/javascript": [
       "\n",
       "        if (window._pyforest_update_imports_cell) { window._pyforest_update_imports_cell('import numpy as np\\nimport matplotlib.pyplot as plt\\nimport pandas as pd'); }\n",
       "    "
      ],
      "text/plain": [
       "<IPython.core.display.Javascript object>"
      ]
     },
     "metadata": {},
     "output_type": "display_data"
    },
    {
     "data": {
      "application/javascript": [
       "\n",
       "        if (window._pyforest_update_imports_cell) { window._pyforest_update_imports_cell('import numpy as np\\nimport matplotlib.pyplot as plt\\nimport pandas as pd'); }\n",
       "    "
      ],
      "text/plain": [
       "<IPython.core.display.Javascript object>"
      ]
     },
     "metadata": {},
     "output_type": "display_data"
    },
    {
     "data": {
      "application/javascript": [
       "\n",
       "        if (window._pyforest_update_imports_cell) { window._pyforest_update_imports_cell('import numpy as np\\nimport matplotlib.pyplot as plt\\nimport pandas as pd'); }\n",
       "    "
      ],
      "text/plain": [
       "<IPython.core.display.Javascript object>"
      ]
     },
     "metadata": {},
     "output_type": "display_data"
    },
    {
     "data": {
      "image/png": "[encoded data removed]",
      "text/plain": [
       "<Figure size 432x288 with 1 Axes>"
      ]
     },
     "metadata": {
      "needs_background": "light"
     },
     "output_type": "display_data"
    }
   ],
   "source": [
    "tags = data['tags']\n",
    "text = []\n",
    "for tag in tags:\n",
    "    words = str(tag).split(sep='|')\n",
    "    text.extend(words)\n",
    "# string = str(text).replace('Python','').replace('数据挖掘','').replace('大数据','')\n",
    "string = str(text)\n",
    "font = r'C:\\Windows\\Fonts\\SimHei.TTF'\n",
    "wc = wordcloud.WordCloud(font_path=font, \n",
    "               background_color='white',\n",
    "               width=1000,\n",
    "               height=400,\n",
    "               )\n",
    "wc.generate(string)\n",
    "wc.to_file('gongyi.png') #保存图片\n",
    "# plt.figure(figsize=(1000,400))\n",
    "plt.imshow(wc)  #用plt显示图片\n",
    "plt.axis('off') #不显示坐标轴\n",
    "plt.show()"
   ]
  },
  {
   "cell_type": "code",
   "execution_count": 5,
   "metadata": {},
   "outputs": [
    {
     "data": {
      "application/javascript": [
       "\n",
       "        if (window._pyforest_update_imports_cell) { window._pyforest_update_imports_cell('import numpy as np\\nimport matplotlib.pyplot as plt\\nimport pandas as pd'); }\n",
       "    "
      ],
      "text/plain": [
       "<IPython.core.display.Javascript object>"
      ]
     },
     "metadata": {},
     "output_type": "display_data"
    },
    {
     "data": {
      "application/javascript": [
       "\n",
       "        if (window._pyforest_update_imports_cell) { window._pyforest_update_imports_cell('import numpy as np\\nimport matplotlib.pyplot as plt\\nimport pandas as pd'); }\n",
       "    "
      ],
      "text/plain": [
       "<IPython.core.display.Javascript object>"
      ]
     },
     "metadata": {},
     "output_type": "display_data"
    },
    {
     "data": {
      "application/javascript": [
       "\n",
       "        if (window._pyforest_update_imports_cell) { window._pyforest_update_imports_cell('import numpy as np\\nimport matplotlib.pyplot as plt\\nimport pandas as pd'); }\n",
       "    "
      ],
      "text/plain": [
       "<IPython.core.display.Javascript object>"
      ]
     },
     "metadata": {},
     "output_type": "display_data"
    },
    {
     "data": {
      "application/javascript": [
       "\n",
       "        if (window._pyforest_update_imports_cell) { window._pyforest_update_imports_cell('import numpy as np\\nimport matplotlib.pyplot as plt\\nimport pandas as pd'); }\n",
       "    "
      ],
      "text/plain": [
       "<IPython.core.display.Javascript object>"
      ]
     },
     "metadata": {},
     "output_type": "display_data"
    },
    {
     "data": {
      "application/javascript": [
       "\n",
       "        if (window._pyforest_update_imports_cell) { window._pyforest_update_imports_cell('import numpy as np\\nimport matplotlib.pyplot as plt\\nimport pandas as pd'); }\n",
       "    "
      ],
      "text/plain": [
       "<IPython.core.display.Javascript object>"
      ]
     },
     "metadata": {},
     "output_type": "display_data"
    },
    {
     "data": {
      "image/png": "[encoded data removed]",
      "text/plain": [
       "<Figure size 432x288 with 1 Axes>"
      ]
     },
     "metadata": {},
     "output_type": "display_data"
    }
   ],
   "source": [
    "_ = data['company_scale'].value_counts()\n",
    "plt.rcParams['font.sans-serif']=['SimHei'] # 用来正常显示中文标签\n",
    "plt.pie(_, labels = list(_.index), explode = [0,0.02,0.05,0.1,0.2,0.5], autopct = '%1.2f%%',startangle = 0)\n",
    "plt.title('各种公司规模占比')\n",
    "plt.axis('equal')\n",
    "plt.show()"
   ]
  },
  {
   "cell_type": "code",
   "execution_count": 6,
   "metadata": {},
   "outputs": [
    {
     "data": {
      "application/javascript": [
       "\n",
       "        if (window._pyforest_update_imports_cell) { window._pyforest_update_imports_cell('import numpy as np\\nimport matplotlib.pyplot as plt\\nimport pandas as pd'); }\n",
       "    "
      ],
      "text/plain": [
       "<IPython.core.display.Javascript object>"
      ]
     },
     "metadata": {},
     "output_type": "display_data"
    },
    {
     "data": {
      "application/javascript": [
       "\n",
       "        if (window._pyforest_update_imports_cell) { window._pyforest_update_imports_cell('import numpy as np\\nimport matplotlib.pyplot as plt\\nimport pandas as pd'); }\n",
       "    "
      ],
      "text/plain": [
       "<IPython.core.display.Javascript object>"
      ]
     },
     "metadata": {},
     "output_type": "display_data"
    },
    {
     "data": {
      "application/javascript": [
       "\n",
       "        if (window._pyforest_update_imports_cell) { window._pyforest_update_imports_cell('import numpy as np\\nimport matplotlib.pyplot as plt\\nimport pandas as pd'); }\n",
       "    "
      ],
      "text/plain": [
       "<IPython.core.display.Javascript object>"
      ]
     },
     "metadata": {},
     "output_type": "display_data"
    },
    {
     "data": {
      "application/javascript": [
       "\n",
       "        if (window._pyforest_update_imports_cell) { window._pyforest_update_imports_cell('import numpy as np\\nimport matplotlib.pyplot as plt\\nimport pandas as pd'); }\n",
       "    "
      ],
      "text/plain": [
       "<IPython.core.display.Javascript object>"
      ]
     },
     "metadata": {},
     "output_type": "display_data"
    },
    {
     "data": {
      "application/javascript": [
       "\n",
       "        if (window._pyforest_update_imports_cell) { window._pyforest_update_imports_cell('import numpy as np\\nimport matplotlib.pyplot as plt\\nimport pandas as pd'); }\n",
       "    "
      ],
      "text/plain": [
       "<IPython.core.display.Javascript object>"
      ]
     },
     "metadata": {},
     "output_type": "display_data"
    },
    {
     "data": {
      "image/png": "[encoded data removed]",
      "text/plain": [
       "<Figure size 432x288 with 1 Axes>"
      ]
     },
     "metadata": {},
     "output_type": "display_data"
    }
   ],
   "source": [
    "_ = data['company_type'].value_counts()\n",
    "plt.rcParams['font.sans-serif']=['SimHei'] # 用来正常显示中文标签\n",
    "plt.pie(_, labels = list(_.index), explode = [0,0.02,0.05,0.1,0.15,0.2,0.3,0.5], autopct = '%1.2f%%',startangle = 0)\n",
    "plt.title('各种公司类型占比')\n",
    "plt.axis('equal')\n",
    "plt.show()"
   ]
  },
  {
   "cell_type": "code",
   "execution_count": 7,
   "metadata": {},
   "outputs": [
    {
     "data": {
      "application/javascript": [
       "\n",
       "        if (window._pyforest_update_imports_cell) { window._pyforest_update_imports_cell('import numpy as np\\nimport matplotlib.pyplot as plt\\nimport pandas as pd'); }\n",
       "    "
      ],
      "text/plain": [
       "<IPython.core.display.Javascript object>"
      ]
     },
     "metadata": {},
     "output_type": "display_data"
    },
    {
     "data": {
      "application/javascript": [
       "\n",
       "        if (window._pyforest_update_imports_cell) { window._pyforest_update_imports_cell('import numpy as np\\nimport matplotlib.pyplot as plt\\nimport pandas as pd'); }\n",
       "    "
      ],
      "text/plain": [
       "<IPython.core.display.Javascript object>"
      ]
     },
     "metadata": {},
     "output_type": "display_data"
    },
    {
     "data": {
      "application/javascript": [
       "\n",
       "        if (window._pyforest_update_imports_cell) { window._pyforest_update_imports_cell('import numpy as np\\nimport matplotlib.pyplot as plt\\nimport pandas as pd'); }\n",
       "    "
      ],
      "text/plain": [
       "<IPython.core.display.Javascript object>"
      ]
     },
     "metadata": {},
     "output_type": "display_data"
    },
    {
     "data": {
      "application/javascript": [
       "\n",
       "        if (window._pyforest_update_imports_cell) { window._pyforest_update_imports_cell('import numpy as np\\nimport matplotlib.pyplot as plt\\nimport pandas as pd'); }\n",
       "    "
      ],
      "text/plain": [
       "<IPython.core.display.Javascript object>"
      ]
     },
     "metadata": {},
     "output_type": "display_data"
    },
    {
     "data": {
      "application/javascript": [
       "\n",
       "        if (window._pyforest_update_imports_cell) { window._pyforest_update_imports_cell('import numpy as np\\nimport matplotlib.pyplot as plt\\nimport pandas as pd'); }\n",
       "    "
      ],
      "text/plain": [
       "<IPython.core.display.Javascript object>"
      ]
     },
     "metadata": {},
     "output_type": "display_data"
    },
    {
     "data": {
      "image/png": "[encoded data removed]",
      "text/plain": [
       "<Figure size 432x288 with 1 Axes>"
      ]
     },
     "metadata": {},
     "output_type": "display_data"
    }
   ],
   "source": [
    "_ = data['education'].value_counts()\n",
    "plt.rcParams['font.sans-serif']=['SimHei'] # 用来正常显示中文标签\n",
    "plt.pie(_, labels = list(_.index), explode = [0,0.05,0.2,0.5], autopct = '%1.2f%%',startangle = 0)\n",
    "plt.title('学历要求')\n",
    "plt.axis('equal')\n",
    "plt.show()"
   ]
  },
  {
   "cell_type": "code",
   "execution_count": 10,
   "metadata": {},
   "outputs": [
    {
     "data": {
      "application/javascript": [
       "\n",
       "        if (window._pyforest_update_imports_cell) { window._pyforest_update_imports_cell('import numpy as np\\nimport matplotlib.pyplot as plt\\nimport pandas as pd'); }\n",
       "    "
      ],
      "text/plain": [
       "<IPython.core.display.Javascript object>"
      ]
     },
     "metadata": {},
     "output_type": "display_data"
    },
    {
     "data": {
      "application/javascript": [
       "\n",
       "        if (window._pyforest_update_imports_cell) { window._pyforest_update_imports_cell('import numpy as np\\nimport matplotlib.pyplot as plt\\nimport pandas as pd'); }\n",
       "    "
      ],
      "text/plain": [
       "<IPython.core.display.Javascript object>"
      ]
     },
     "metadata": {},
     "output_type": "display_data"
    },
    {
     "data": {
      "application/javascript": [
       "\n",
       "        if (window._pyforest_update_imports_cell) { window._pyforest_update_imports_cell('import numpy as np\\nimport matplotlib.pyplot as plt\\nimport pandas as pd'); }\n",
       "    "
      ],
      "text/plain": [
       "<IPython.core.display.Javascript object>"
      ]
     },
     "metadata": {},
     "output_type": "display_data"
    },
    {
     "data": {
      "application/javascript": [
       "\n",
       "        if (window._pyforest_update_imports_cell) { window._pyforest_update_imports_cell('import numpy as np\\nimport matplotlib.pyplot as plt\\nimport pandas as pd'); }\n",
       "    "
      ],
      "text/plain": [
       "<IPython.core.display.Javascript object>"
      ]
     },
     "metadata": {},
     "output_type": "display_data"
    },
    {
     "data": {
      "application/javascript": [
       "\n",
       "        if (window._pyforest_update_imports_cell) { window._pyforest_update_imports_cell('import numpy as np\\nimport matplotlib.pyplot as plt\\nimport pandas as pd'); }\n",
       "    "
      ],
      "text/plain": [
       "<IPython.core.display.Javascript object>"
      ]
     },
     "metadata": {},
     "output_type": "display_data"
    },
    {
     "data": {
      "image/png": "[encoded data removed]",
      "text/plain": [
       "<Figure size 432x288 with 1 Axes>"
      ]
     },
     "metadata": {},
     "output_type": "display_data"
    }
   ],
   "source": [
    "_ = data['work_experience'].value_counts()\n",
    "plt.rcParams['font.sans-serif']=['SimHei'] # 用来正常显示中文标签\n",
    "plt.pie(_, labels = list(_.index), explode = [0,0.02,0.05,0.1,0.2,0.3,0.5], autopct = '%1.2f%%',startangle = 0)\n",
    "plt.title('经验要求')\n",
    "plt.axis('equal')\n",
    "plt.show()"
   ]
  },
  {
   "cell_type": "code",
   "execution_count": 9,
   "metadata": {},
   "outputs": [
    {
     "data": {
      "text/plain": [
       "深圳      107\n",
       "北京       84\n",
       "广州       63\n",
       "上海       38\n",
       "杭州       37\n",
       "成都       14\n",
       "佛山        7\n",
       "东莞        6\n",
       "武汉        4\n",
       "珠海        3\n",
       "厦门        3\n",
       "合肥        3\n",
       "重庆        2\n",
       "济南        2\n",
       "南京        2\n",
       "郑州        2\n",
       "太原        1\n",
       "天津        1\n",
       "沈阳        1\n",
       "惠州        1\n",
       "西安        1\n",
       "南宁        1\n",
       "福州        1\n",
       "无锡        1\n",
       "乌鲁木齐      1\n",
       "韶关        1\n",
       "宁波        1\n",
       "肇庆        1\n",
       "青岛        1\n",
       "三亚        1\n",
       "苏州        1\n",
       "德州        1\n",
       "南昌        1\n",
       "南通        1\n",
       "中山        1\n",
       "Name: city, dtype: int64"
      ]
     },
     "execution_count": 9,
     "metadata": {},
     "output_type": "execute_result"
    }
   ],
   "source": [
    "data['city'].value_counts()"
   ]
  },
  {
   "cell_type": "code",
   "execution_count": null,
   "metadata": {},
   "outputs": [],
   "source": []
  }
 ],
 "metadata": {
  "kernelspec": {
   "display_name": "Python 3",
   "language": "python",
   "name": "python3"
  },
  "language_info": {
   "codemirror_mode": {
    "name": "ipython",
    "version": 3
   },
   "file_extension": ".py",
   "mimetype": "text/x-python",
   "name": "python",
   "nbconvert_exporter": "python",
   "pygments_lexer": "ipython3",
   "version": "3.7.5"
  }
 },
 "nbformat": 4,
 "nbformat_minor": 2
}
