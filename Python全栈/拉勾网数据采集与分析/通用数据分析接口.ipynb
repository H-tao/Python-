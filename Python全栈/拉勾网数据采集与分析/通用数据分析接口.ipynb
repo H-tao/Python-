{
 "cells": [
  {
   "cell_type": "code",
   "execution_count": 14,
   "metadata": {
    "scrolled": true
   },
   "outputs": [
    {
     "name": "stdout",
     "output_type": "stream",
     "text": [
      "销售 销售\n"
     ]
    },
    {
     "data": {
      "text/html": [
       "<div>\n",
       "<style scoped>\n",
       "    .dataframe tbody tr th:only-of-type {\n",
       "        vertical-align: middle;\n",
       "    }\n",
       "\n",
       "    .dataframe tbody tr th {\n",
       "        vertical-align: top;\n",
       "    }\n",
       "\n",
       "    .dataframe thead th {\n",
       "        text-align: right;\n",
       "    }\n",
       "</style>\n",
       "<table border=\"1\" class=\"dataframe\">\n",
       "  <thead>\n",
       "    <tr style=\"text-align: right;\">\n",
       "      <th></th>\n",
       "      <th>id</th>\n",
       "      <th>position_id</th>\n",
       "      <th>keywords</th>\n",
       "      <th>detail_url</th>\n",
       "      <th>position</th>\n",
       "      <th>tags</th>\n",
       "      <th>salary</th>\n",
       "      <th>job_type</th>\n",
       "      <th>city</th>\n",
       "      <th>district</th>\n",
       "      <th>street</th>\n",
       "      <th>education</th>\n",
       "      <th>work_experience</th>\n",
       "      <th>release_date</th>\n",
       "      <th>description</th>\n",
       "      <th>company_name</th>\n",
       "      <th>company_scale</th>\n",
       "      <th>company_field</th>\n",
       "      <th>company_type</th>\n",
       "      <th>company_benefits</th>\n",
       "    </tr>\n",
       "  </thead>\n",
       "  <tbody>\n",
       "    <tr>\n",
       "      <th>0</th>\n",
       "      <td>2505</td>\n",
       "      <td>5113455</td>\n",
       "      <td>渠道销售</td>\n",
       "      <td>https://www.lagou.com/jobs/5113455.html</td>\n",
       "      <td>渠道销售经理</td>\n",
       "      <td>云计算|销售|商务渠道</td>\n",
       "      <td>15k-21k</td>\n",
       "      <td>全职</td>\n",
       "      <td>上海</td>\n",
       "      <td>杨浦区</td>\n",
       "      <td>长阳路2555号</td>\n",
       "      <td>本科及以上</td>\n",
       "      <td>3-5年</td>\n",
       "      <td>2020-04-16</td>\n",
       "      <td>岗位职责：1.负责上海、深圳、成都区域云计算服务等相关产品渠道拓展工作，包括代理商、ISV的...</td>\n",
       "      <td>CloudChef</td>\n",
       "      <td>50-150人</td>\n",
       "      <td>企业服务,数据服务</td>\n",
       "      <td>B轮</td>\n",
       "      <td>扁平化管理|团建旅游|带薪休假|五险一金</td>\n",
       "    </tr>\n",
       "    <tr>\n",
       "      <th>1</th>\n",
       "      <td>2508</td>\n",
       "      <td>6987568</td>\n",
       "      <td>渠道销售</td>\n",
       "      <td>https://www.lagou.com/jobs/6987568.html</td>\n",
       "      <td>渠道销售经理</td>\n",
       "      <td>医疗健康|企业服务|代理商销售|渠道分销|市场拓展|代理商</td>\n",
       "      <td>10k-18k</td>\n",
       "      <td>全职</td>\n",
       "      <td>广州</td>\n",
       "      <td>天河区</td>\n",
       "      <td>科华街251号乐天创意园B栋4011</td>\n",
       "      <td>大专及以上</td>\n",
       "      <td>1-3年</td>\n",
       "      <td>2020-04-16</td>\n",
       "      <td>岗位职责：1.负责区域渠道的挖掘和培养，完成业务目标；2.分析渠道情况，保持项目跟进；3.维...</td>\n",
       "      <td>易简医护</td>\n",
       "      <td>15-50人</td>\n",
       "      <td>软件开发,电商</td>\n",
       "      <td>不需要融资</td>\n",
       "      <td>高梯度薪酬|13薪|大厂老大带管</td>\n",
       "    </tr>\n",
       "    <tr>\n",
       "      <th>2</th>\n",
       "      <td>2511</td>\n",
       "      <td>6261547</td>\n",
       "      <td>渠道销售</td>\n",
       "      <td>https://www.lagou.com/jobs/6261547.html</td>\n",
       "      <td>渠道销售经理</td>\n",
       "      <td>销售|商务渠道|大客户销售</td>\n",
       "      <td>8k-12k</td>\n",
       "      <td>全职</td>\n",
       "      <td>杭州</td>\n",
       "      <td>滨江区</td>\n",
       "      <td>江南大道3688号潮人汇9楼</td>\n",
       "      <td>大专及以上</td>\n",
       "      <td>3-5年</td>\n",
       "      <td>2020-04-16</td>\n",
       "      <td>1、负责公司互联网医院云平台产品的渠道拓展与推广工作；2、制定区域代理商发展规划和策略，开拓...</td>\n",
       "      <td>纳里健康</td>\n",
       "      <td>150-500人</td>\n",
       "      <td>医疗丨健康</td>\n",
       "      <td>B轮</td>\n",
       "      <td>股票期权|精英团队|高潜行业</td>\n",
       "    </tr>\n",
       "    <tr>\n",
       "      <th>3</th>\n",
       "      <td>2514</td>\n",
       "      <td>6988553</td>\n",
       "      <td>渠道销售</td>\n",
       "      <td>https://www.lagou.com/jobs/6988553.html</td>\n",
       "      <td>渠道销售经理</td>\n",
       "      <td>客户代表|销售|渠道分销|电话销售</td>\n",
       "      <td>8k-15k</td>\n",
       "      <td>全职</td>\n",
       "      <td>广州</td>\n",
       "      <td>海珠区</td>\n",
       "      <td>广州大道南 788 号广一电商园 22 号楼之一 1-4 层</td>\n",
       "      <td>大专及以上</td>\n",
       "      <td>不限</td>\n",
       "      <td>2020-04-16</td>\n",
       "      <td>一、岗位职责：1、负责省外市场合作伙伴的渠道拓展、扶持合作伙伴在当地进行市场推广及销售；2、...</td>\n",
       "      <td>小卫科技</td>\n",
       "      <td>150-500人</td>\n",
       "      <td>移动互联网,医疗丨健康</td>\n",
       "      <td>C轮</td>\n",
       "      <td>发展空间大|福利待遇佳</td>\n",
       "    </tr>\n",
       "    <tr>\n",
       "      <th>4</th>\n",
       "      <td>2517</td>\n",
       "      <td>6684007</td>\n",
       "      <td>渠道销售</td>\n",
       "      <td>https://www.lagou.com/jobs/6684007.html</td>\n",
       "      <td>渠道销售经理</td>\n",
       "      <td>渠道|代理商|销售</td>\n",
       "      <td>4k-8k</td>\n",
       "      <td>全职</td>\n",
       "      <td>成都</td>\n",
       "      <td>高新区</td>\n",
       "      <td>科园三路4号火炬时代B区7层</td>\n",
       "      <td>大专及以上</td>\n",
       "      <td>1-3年</td>\n",
       "      <td>2020-04-16</td>\n",
       "      <td>我们公司是一个高速发展，连续十余年实现目标、盈利的公司，我们不是在招聘，我们在通过招聘寻找事...</td>\n",
       "      <td>西辰软件</td>\n",
       "      <td>50-150人</td>\n",
       "      <td>移动互联网,消费生活</td>\n",
       "      <td>未融资</td>\n",
       "      <td>周末双休|福利好|晋升空间大</td>\n",
       "    </tr>\n",
       "  </tbody>\n",
       "</table>\n",
       "</div>"
      ],
      "text/plain": [
       "     id position_id keywords                               detail_url  \\\n",
       "0  2505     5113455     渠道销售  https://www.lagou.com/jobs/5113455.html   \n",
       "1  2508     6987568     渠道销售  https://www.lagou.com/jobs/6987568.html   \n",
       "2  2511     6261547     渠道销售  https://www.lagou.com/jobs/6261547.html   \n",
       "3  2514     6988553     渠道销售  https://www.lagou.com/jobs/6988553.html   \n",
       "4  2517     6684007     渠道销售  https://www.lagou.com/jobs/6684007.html   \n",
       "\n",
       "  position                           tags   salary job_type city district  \\\n",
       "0   渠道销售经理                    云计算|销售|商务渠道  15k-21k       全职   上海      杨浦区   \n",
       "1   渠道销售经理  医疗健康|企业服务|代理商销售|渠道分销|市场拓展|代理商  10k-18k       全职   广州      天河区   \n",
       "2   渠道销售经理                  销售|商务渠道|大客户销售   8k-12k       全职   杭州      滨江区   \n",
       "3   渠道销售经理              客户代表|销售|渠道分销|电话销售   8k-15k       全职   广州      海珠区   \n",
       "4   渠道销售经理                      渠道|代理商|销售    4k-8k       全职   成都      高新区   \n",
       "\n",
       "                           street education work_experience release_date  \\\n",
       "0                        长阳路2555号     本科及以上            3-5年   2020-04-16   \n",
       "1              科华街251号乐天创意园B栋4011     大专及以上            1-3年   2020-04-16   \n",
       "2                  江南大道3688号潮人汇9楼     大专及以上            3-5年   2020-04-16   \n",
       "3  广州大道南 788 号广一电商园 22 号楼之一 1-4 层     大专及以上              不限   2020-04-16   \n",
       "4                  科园三路4号火炬时代B区7层     大专及以上            1-3年   2020-04-16   \n",
       "\n",
       "                                         description company_name  \\\n",
       "0  岗位职责：1.负责上海、深圳、成都区域云计算服务等相关产品渠道拓展工作，包括代理商、ISV的...    CloudChef   \n",
       "1  岗位职责：1.负责区域渠道的挖掘和培养，完成业务目标；2.分析渠道情况，保持项目跟进；3.维...         易简医护   \n",
       "2  1、负责公司互联网医院云平台产品的渠道拓展与推广工作；2、制定区域代理商发展规划和策略，开拓...         纳里健康   \n",
       "3  一、岗位职责：1、负责省外市场合作伙伴的渠道拓展、扶持合作伙伴在当地进行市场推广及销售；2、...         小卫科技   \n",
       "4  我们公司是一个高速发展，连续十余年实现目标、盈利的公司，我们不是在招聘，我们在通过招聘寻找事...         西辰软件   \n",
       "\n",
       "  company_scale company_field company_type      company_benefits  \n",
       "0       50-150人     企业服务,数据服务           B轮  扁平化管理|团建旅游|带薪休假|五险一金  \n",
       "1        15-50人       软件开发,电商        不需要融资      高梯度薪酬|13薪|大厂老大带管  \n",
       "2      150-500人         医疗丨健康           B轮        股票期权|精英团队|高潜行业  \n",
       "3      150-500人   移动互联网,医疗丨健康           C轮           发展空间大|福利待遇佳  \n",
       "4       50-150人    移动互联网,消费生活          未融资        周末双休|福利好|晋升空间大  "
      ]
     },
     "execution_count": 14,
     "metadata": {},
     "output_type": "execute_result"
    }
   ],
   "source": [
    "from positions import keyword_to_db_table\n",
    "\n",
    "db_table = keyword_to_db_table()\n",
    "\n",
    "\n",
    "keyword = '渠道销售 '\n",
    "\n",
    "d = db_table[keyword] if db_table[keyword] else None\n",
    "\n",
    "DB_NAME = d['DB_NAME']\n",
    "TABLE_NAME= d['TABLE_NAME']\n",
    "print(DB_NAME, TABLE_NAME)\n",
    "\n",
    "# -*- conding: UTF-8 -*-\n",
    "import pymysql\n",
    "import pandas\n",
    "import pyforest\n",
    "import wordcloud\n",
    "\n",
    "conn = pymysql.Connection(\n",
    "   host='localhost',\n",
    "   port=3306,\n",
    "   user='root',\n",
    "   password='123456',\n",
    "   charset='utf8',\n",
    "   db=DB_NAME,\n",
    ")\n",
    "\n",
    "def get_data(table_name, keywords):\n",
    "    sql_select = f'select * from {table_name} where keywords=\"{keywords}\"'\n",
    "    df = pandas.read_sql(sql_select, conn)\n",
    "    return df\n",
    "    \n",
    "\n",
    "data = get_data(table_name=TABLE_NAME, keywords=keyword)\n",
    "data.head(5)"
   ]
  },
  {
   "cell_type": "code",
   "execution_count": 2,
   "metadata": {},
   "outputs": [
    {
     "data": {
      "application/javascript": [
       "\n",
       "        if (window._pyforest_update_imports_cell) { window._pyforest_update_imports_cell('import matplotlib.pyplot as plt'); }\n",
       "    "
      ],
      "text/plain": [
       "<IPython.core.display.Javascript object>"
      ]
     },
     "metadata": {},
     "output_type": "display_data"
    },
    {
     "data": {
      "application/javascript": [
       "\n",
       "        if (window._pyforest_update_imports_cell) { window._pyforest_update_imports_cell('import matplotlib.pyplot as plt'); }\n",
       "    "
      ],
      "text/plain": [
       "<IPython.core.display.Javascript object>"
      ]
     },
     "metadata": {},
     "output_type": "display_data"
    },
    {
     "data": {
      "application/javascript": [
       "\n",
       "        if (window._pyforest_update_imports_cell) { window._pyforest_update_imports_cell('import matplotlib.pyplot as plt'); }\n",
       "    "
      ],
      "text/plain": [
       "<IPython.core.display.Javascript object>"
      ]
     },
     "metadata": {},
     "output_type": "display_data"
    },
    {
     "data": {
      "application/javascript": [
       "\n",
       "        if (window._pyforest_update_imports_cell) { window._pyforest_update_imports_cell('import matplotlib.pyplot as plt'); }\n",
       "    "
      ],
      "text/plain": [
       "<IPython.core.display.Javascript object>"
      ]
     },
     "metadata": {},
     "output_type": "display_data"
    },
    {
     "name": "stdout",
     "output_type": "stream",
     "text": [
      "统计岗位数: 743\n"
     ]
    },
    {
     "data": {
      "image/png": "[encoded data removed]",
      "text/plain": [
       "<Figure size 432x288 with 1 Axes>"
      ]
     },
     "metadata": {
      "needs_background": "light"
     },
     "output_type": "display_data"
    }
   ],
   "source": [
    "# 从表中可以看出，薪水一列是采用“最低-最高”的区间的方式进行表示的，这里我们将其转换成平均值，这里我们将工资中的‘k’、‘K’换成数字，便于计算。\n",
    "min_ = data['salary'].str.split('-').str[0].str.rstrip('k').str.rstrip('K').astype('float64')*1000\n",
    "max_ = data['salary'].str.split('-').str[1].str.rstrip('k').str.rstrip('K').astype('float64')*1000\n",
    "salary = (min_ + max_) * 0.5\n",
    "plt.hist(salary,10,facecolor = 'r')\n",
    "plt.xlabel('工资',fontproperties = 'SimHei')\n",
    "plt.ylabel('公司数量',fontproperties = 'SimHei')\n",
    "plt.title('工资分布直方图',fontproperties = 'SimHei')\n",
    "print('统计岗位数:', len(data))"
   ]
  },
  {
   "cell_type": "code",
   "execution_count": 3,
   "metadata": {},
   "outputs": [
    {
     "data": {
      "application/javascript": [
       "\n",
       "        if (window._pyforest_update_imports_cell) { window._pyforest_update_imports_cell('import matplotlib.pyplot as plt'); }\n",
       "    "
      ],
      "text/plain": [
       "<IPython.core.display.Javascript object>"
      ]
     },
     "metadata": {},
     "output_type": "display_data"
    },
    {
     "data": {
      "application/javascript": [
       "\n",
       "        if (window._pyforest_update_imports_cell) { window._pyforest_update_imports_cell('import matplotlib.pyplot as plt'); }\n",
       "    "
      ],
      "text/plain": [
       "<IPython.core.display.Javascript object>"
      ]
     },
     "metadata": {},
     "output_type": "display_data"
    },
    {
     "data": {
      "application/javascript": [
       "\n",
       "        if (window._pyforest_update_imports_cell) { window._pyforest_update_imports_cell('import matplotlib.pyplot as plt'); }\n",
       "    "
      ],
      "text/plain": [
       "<IPython.core.display.Javascript object>"
      ]
     },
     "metadata": {},
     "output_type": "display_data"
    },
    {
     "data": {
      "image/png": "[encoded data removed]",
      "text/plain": [
       "<Figure size 432x288 with 1 Axes>"
      ]
     },
     "metadata": {
      "needs_background": "light"
     },
     "output_type": "display_data"
    }
   ],
   "source": [
    "tags = data['tags']\n",
    "text = []\n",
    "for tag in tags:\n",
    "    words = str(tag).split(sep='|')\n",
    "    text.extend(words)\n",
    "# string = str(text).replace('Python','').replace('数据挖掘','').replace('大数据','')\n",
    "string = str(text)\n",
    "font = r'C:\\Windows\\Fonts\\SimHei.TTF'\n",
    "wc = wordcloud.WordCloud(font_path=font, \n",
    "               background_color='white',\n",
    "               width=1000,\n",
    "               height=400,\n",
    "               )\n",
    "wc.generate(string)\n",
    "wc.to_file('gongyi.png') #保存图片\n",
    "# plt.figure(figsize=(1000,400))\n",
    "plt.imshow(wc)  #用plt显示图片\n",
    "plt.axis('off') #不显示坐标轴\n",
    "plt.show()"
   ]
  },
  {
   "cell_type": "code",
   "execution_count": 4,
   "metadata": {},
   "outputs": [
    {
     "data": {
      "application/javascript": [
       "\n",
       "        if (window._pyforest_update_imports_cell) { window._pyforest_update_imports_cell('import matplotlib.pyplot as plt'); }\n",
       "    "
      ],
      "text/plain": [
       "<IPython.core.display.Javascript object>"
      ]
     },
     "metadata": {},
     "output_type": "display_data"
    },
    {
     "data": {
      "application/javascript": [
       "\n",
       "        if (window._pyforest_update_imports_cell) { window._pyforest_update_imports_cell('import matplotlib.pyplot as plt'); }\n",
       "    "
      ],
      "text/plain": [
       "<IPython.core.display.Javascript object>"
      ]
     },
     "metadata": {},
     "output_type": "display_data"
    },
    {
     "data": {
      "application/javascript": [
       "\n",
       "        if (window._pyforest_update_imports_cell) { window._pyforest_update_imports_cell('import matplotlib.pyplot as plt'); }\n",
       "    "
      ],
      "text/plain": [
       "<IPython.core.display.Javascript object>"
      ]
     },
     "metadata": {},
     "output_type": "display_data"
    },
    {
     "data": {
      "application/javascript": [
       "\n",
       "        if (window._pyforest_update_imports_cell) { window._pyforest_update_imports_cell('import matplotlib.pyplot as plt'); }\n",
       "    "
      ],
      "text/plain": [
       "<IPython.core.display.Javascript object>"
      ]
     },
     "metadata": {},
     "output_type": "display_data"
    },
    {
     "data": {
      "application/javascript": [
       "\n",
       "        if (window._pyforest_update_imports_cell) { window._pyforest_update_imports_cell('import matplotlib.pyplot as plt'); }\n",
       "    "
      ],
      "text/plain": [
       "<IPython.core.display.Javascript object>"
      ]
     },
     "metadata": {},
     "output_type": "display_data"
    },
    {
     "data": {
      "image/png": "[encoded data removed]",
      "text/plain": [
       "<Figure size 432x288 with 1 Axes>"
      ]
     },
     "metadata": {},
     "output_type": "display_data"
    }
   ],
   "source": [
    "ex_list = [0, 0.02, 0.05, 0.10, 0.15, 0.20, 0.30, 0.40, 0.50, 0.70, 0.80, 1.00, 1.20, 1.50]\n",
    "_ = data['company_scale'].value_counts()\n",
    "plt.rcParams['font.sans-serif']=['SimHei'] # 用来正常显示中文标签\n",
    "plt.pie(_, labels = list(_.index), explode = ex_list[:len(_)], autopct = '%1.2f%%',startangle = 0)\n",
    "plt.title('各种公司规模占比')\n",
    "plt.axis('equal')\n",
    "plt.show()"
   ]
  },
  {
   "cell_type": "code",
   "execution_count": 5,
   "metadata": {},
   "outputs": [
    {
     "data": {
      "application/javascript": [
       "\n",
       "        if (window._pyforest_update_imports_cell) { window._pyforest_update_imports_cell('import matplotlib.pyplot as plt'); }\n",
       "    "
      ],
      "text/plain": [
       "<IPython.core.display.Javascript object>"
      ]
     },
     "metadata": {},
     "output_type": "display_data"
    },
    {
     "data": {
      "application/javascript": [
       "\n",
       "        if (window._pyforest_update_imports_cell) { window._pyforest_update_imports_cell('import matplotlib.pyplot as plt'); }\n",
       "    "
      ],
      "text/plain": [
       "<IPython.core.display.Javascript object>"
      ]
     },
     "metadata": {},
     "output_type": "display_data"
    },
    {
     "data": {
      "application/javascript": [
       "\n",
       "        if (window._pyforest_update_imports_cell) { window._pyforest_update_imports_cell('import matplotlib.pyplot as plt'); }\n",
       "    "
      ],
      "text/plain": [
       "<IPython.core.display.Javascript object>"
      ]
     },
     "metadata": {},
     "output_type": "display_data"
    },
    {
     "data": {
      "application/javascript": [
       "\n",
       "        if (window._pyforest_update_imports_cell) { window._pyforest_update_imports_cell('import matplotlib.pyplot as plt'); }\n",
       "    "
      ],
      "text/plain": [
       "<IPython.core.display.Javascript object>"
      ]
     },
     "metadata": {},
     "output_type": "display_data"
    },
    {
     "data": {
      "application/javascript": [
       "\n",
       "        if (window._pyforest_update_imports_cell) { window._pyforest_update_imports_cell('import matplotlib.pyplot as plt'); }\n",
       "    "
      ],
      "text/plain": [
       "<IPython.core.display.Javascript object>"
      ]
     },
     "metadata": {},
     "output_type": "display_data"
    },
    {
     "data": {
      "image/png": "[encoded data removed]",
      "text/plain": [
       "<Figure size 432x288 with 1 Axes>"
      ]
     },
     "metadata": {},
     "output_type": "display_data"
    }
   ],
   "source": [
    "_ = data['company_type'].value_counts()\n",
    "plt.rcParams['font.sans-serif']=['SimHei'] # 用来正常显示中文标签\n",
    "plt.pie(_, labels = list(_.index), explode = ex_list[:len(_)], autopct = '%1.2f%%',startangle = 0)\n",
    "plt.title('各种公司类型占比')\n",
    "plt.axis('equal')\n",
    "plt.show()"
   ]
  },
  {
   "cell_type": "code",
   "execution_count": 6,
   "metadata": {},
   "outputs": [
    {
     "data": {
      "application/javascript": [
       "\n",
       "        if (window._pyforest_update_imports_cell) { window._pyforest_update_imports_cell('import matplotlib.pyplot as plt'); }\n",
       "    "
      ],
      "text/plain": [
       "<IPython.core.display.Javascript object>"
      ]
     },
     "metadata": {},
     "output_type": "display_data"
    },
    {
     "data": {
      "application/javascript": [
       "\n",
       "        if (window._pyforest_update_imports_cell) { window._pyforest_update_imports_cell('import matplotlib.pyplot as plt'); }\n",
       "    "
      ],
      "text/plain": [
       "<IPython.core.display.Javascript object>"
      ]
     },
     "metadata": {},
     "output_type": "display_data"
    },
    {
     "data": {
      "application/javascript": [
       "\n",
       "        if (window._pyforest_update_imports_cell) { window._pyforest_update_imports_cell('import matplotlib.pyplot as plt'); }\n",
       "    "
      ],
      "text/plain": [
       "<IPython.core.display.Javascript object>"
      ]
     },
     "metadata": {},
     "output_type": "display_data"
    },
    {
     "data": {
      "application/javascript": [
       "\n",
       "        if (window._pyforest_update_imports_cell) { window._pyforest_update_imports_cell('import matplotlib.pyplot as plt'); }\n",
       "    "
      ],
      "text/plain": [
       "<IPython.core.display.Javascript object>"
      ]
     },
     "metadata": {},
     "output_type": "display_data"
    },
    {
     "data": {
      "application/javascript": [
       "\n",
       "        if (window._pyforest_update_imports_cell) { window._pyforest_update_imports_cell('import matplotlib.pyplot as plt'); }\n",
       "    "
      ],
      "text/plain": [
       "<IPython.core.display.Javascript object>"
      ]
     },
     "metadata": {},
     "output_type": "display_data"
    },
    {
     "data": {
      "image/png": "[encoded data removed]",
      "text/plain": [
       "<Figure size 432x288 with 1 Axes>"
      ]
     },
     "metadata": {},
     "output_type": "display_data"
    }
   ],
   "source": [
    "_ = data['education'].value_counts()\n",
    "plt.rcParams['font.sans-serif']=['SimHei'] # 用来正常显示中文标签\n",
    "plt.pie(_, labels = list(_.index), explode = ex_list[:len(_)], autopct = '%1.2f%%',startangle = 0)\n",
    "plt.title('学历要求')\n",
    "plt.axis('equal')\n",
    "plt.show()"
   ]
  },
  {
   "cell_type": "code",
   "execution_count": 7,
   "metadata": {},
   "outputs": [
    {
     "data": {
      "application/javascript": [
       "\n",
       "        if (window._pyforest_update_imports_cell) { window._pyforest_update_imports_cell('import matplotlib.pyplot as plt'); }\n",
       "    "
      ],
      "text/plain": [
       "<IPython.core.display.Javascript object>"
      ]
     },
     "metadata": {},
     "output_type": "display_data"
    },
    {
     "data": {
      "application/javascript": [
       "\n",
       "        if (window._pyforest_update_imports_cell) { window._pyforest_update_imports_cell('import matplotlib.pyplot as plt'); }\n",
       "    "
      ],
      "text/plain": [
       "<IPython.core.display.Javascript object>"
      ]
     },
     "metadata": {},
     "output_type": "display_data"
    },
    {
     "data": {
      "application/javascript": [
       "\n",
       "        if (window._pyforest_update_imports_cell) { window._pyforest_update_imports_cell('import matplotlib.pyplot as plt'); }\n",
       "    "
      ],
      "text/plain": [
       "<IPython.core.display.Javascript object>"
      ]
     },
     "metadata": {},
     "output_type": "display_data"
    },
    {
     "data": {
      "application/javascript": [
       "\n",
       "        if (window._pyforest_update_imports_cell) { window._pyforest_update_imports_cell('import matplotlib.pyplot as plt'); }\n",
       "    "
      ],
      "text/plain": [
       "<IPython.core.display.Javascript object>"
      ]
     },
     "metadata": {},
     "output_type": "display_data"
    },
    {
     "data": {
      "application/javascript": [
       "\n",
       "        if (window._pyforest_update_imports_cell) { window._pyforest_update_imports_cell('import matplotlib.pyplot as plt'); }\n",
       "    "
      ],
      "text/plain": [
       "<IPython.core.display.Javascript object>"
      ]
     },
     "metadata": {},
     "output_type": "display_data"
    },
    {
     "data": {
      "image/png": "[encoded data removed]",
      "text/plain": [
       "<Figure size 432x288 with 1 Axes>"
      ]
     },
     "metadata": {},
     "output_type": "display_data"
    },
    {
     "name": "stdout",
     "output_type": "stream",
     "text": [
      "7\n"
     ]
    }
   ],
   "source": [
    "ex_list = [0, 0.05, 0.10, 0.20, 0.40, 0.60, 0.80, 1.00, 1.20, 1.50]\n",
    "_ = data['work_experience'].value_counts()\n",
    "plt.rcParams['font.sans-serif']=['SimHei'] # 用来正常显示中文标签\n",
    "plt.pie(_, labels = list(_.index), explode = ex_list[:len(_)], autopct = '%1.2f%%',startangle = 0)\n",
    "plt.title('经验要求')\n",
    "plt.axis('equal')\n",
    "plt.show()\n",
    "print(len(_))"
   ]
  },
  {
   "cell_type": "code",
   "execution_count": 8,
   "metadata": {},
   "outputs": [
    {
     "data": {
      "text/plain": [
       "北京      198\n",
       "上海      170\n",
       "深圳      110\n",
       "广州       80\n",
       "杭州       74\n",
       "成都       30\n",
       "武汉       15\n",
       "南京        8\n",
       "天津        8\n",
       "重庆        7\n",
       "南宁        4\n",
       "西安        4\n",
       "郑州        3\n",
       "贵阳        3\n",
       "长沙        3\n",
       "福州        2\n",
       "东莞        2\n",
       "合肥        2\n",
       "沈阳        2\n",
       "厦门        2\n",
       "苏州        2\n",
       "济南        1\n",
       "保山        1\n",
       "宁波        1\n",
       "金华        1\n",
       "乌鲁木齐      1\n",
       "珠海        1\n",
       "嘉兴        1\n",
       "安庆        1\n",
       "拉萨        1\n",
       "泰州        1\n",
       "长春        1\n",
       "哈尔滨       1\n",
       "青岛        1\n",
       "昆明        1\n",
       "Name: city, dtype: int64"
      ]
     },
     "execution_count": 8,
     "metadata": {},
     "output_type": "execute_result"
    }
   ],
   "source": [
    "data['city'].value_counts()"
   ]
  },
  {
   "cell_type": "code",
   "execution_count": 9,
   "metadata": {},
   "outputs": [],
   "source": [
    "# from pyecharts import options as opts\n",
    "# from pyecharts.charts import Geo\n",
    "# from pyecharts.faker import Faker\n",
    "# city = data['city'].value_counts().index.tolist()\n",
    "# job_num = data['city'].value_counts().tolist()\n",
    "# c = (\n",
    "#     Geo()\n",
    "#     .add_schema(maptype=\"china\")\n",
    "#     .add(\"岗位分布\", [list(z) for z in zip(city, job_num)])\n",
    "#     .set_series_opts(label_opts=opts.LabelOpts(is_show=False))\n",
    "#     .set_global_opts(\n",
    "#         visualmap_opts=opts.VisualMapOpts(\n",
    "#             is_piecewise=True,  # 设置是否为分段显示\n",
    "#             # 自定义的每一段的范围，以及每一段的文字，以及每一段的特别的样式。例如：\n",
    "#             pieces=[\n",
    "#                 {\"min\": 200, \"label\": '>200人', \"color\": \"#eb2f06\"},\n",
    "#                 {\"min\": 150, \"max\": 199, \"label\": '150-199人', \"color\": \"#FF3030\"},  # 不指定 max，表示 max 为无限大（Infinity）。\n",
    "#                 {\"min\": 100, \"max\": 149, \"label\": '100-149人', \"color\": \"#FF4500\"},\n",
    "#                 {\"min\": 50, \"max\": 99, \"label\": '50-99人', \"color\": \"#FF7F50\"},\n",
    "#                 {\"min\": 10, \"max\": 49, \"label\": '10-49人', \"color\": \"#FFA500\"},\n",
    "#                 {\"min\": 1, \"max\": 9, \"label\": '1-9人', \"color\": \"#FFDEAD\"},\n",
    "#             ],\n",
    "#             # 两端的文本，如['High', 'Low']。\n",
    "#             range_text=['高', '低'],\n",
    "#         ),\n",
    "#         title_opts=opts.TitleOpts(title=\"市级Python岗位分布图\"),\n",
    "#     )\n",
    "#     .render(\"市级Python岗位分布图.html\")\n",
    "# )"
   ]
  },
  {
   "cell_type": "code",
   "execution_count": 10,
   "metadata": {},
   "outputs": [
    {
     "data": {
      "text/plain": [
       "pandas.core.series.Series"
      ]
     },
     "execution_count": 10,
     "metadata": {},
     "output_type": "execute_result"
    }
   ],
   "source": [
    "type(salary.value_counts())"
   ]
  },
  {
   "cell_type": "code",
   "execution_count": 11,
   "metadata": {},
   "outputs": [
    {
     "data": {
      "text/plain": [
       "Float64Index([15000.0, 12500.0, 22500.0, 20000.0, 11500.0,  9000.0,  7500.0,\n",
       "              30000.0, 17500.0, 10000.0, 13500.0, 12000.0, 10500.0,  6000.0,\n",
       "              18000.0,  8000.0, 16000.0, 25000.0,  7000.0, 37500.0, 11000.0,\n",
       "              19000.0,  8500.0, 14000.0, 15500.0, 47500.0, 40000.0, 21500.0,\n",
       "              20500.0,  9500.0, 27500.0, 14500.0, 27000.0, 21000.0, 13000.0,\n",
       "              26500.0,  6500.0, 74500.0,  4500.0, 65000.0, 24000.0,  3500.0,\n",
       "              34000.0, 16500.0, 35000.0, 39000.0, 28000.0,  5500.0, 41500.0,\n",
       "              23000.0, 19500.0, 17000.0],\n",
       "             dtype='float64')"
      ]
     },
     "execution_count": 11,
     "metadata": {},
     "output_type": "execute_result"
    }
   ],
   "source": [
    "s = salary.value_counts().index\n",
    "s"
   ]
  },
  {
   "cell_type": "code",
   "execution_count": 12,
   "metadata": {},
   "outputs": [
    {
     "data": {
      "text/html": [
       "<div>\n",
       "<style scoped>\n",
       "    .dataframe tbody tr th:only-of-type {\n",
       "        vertical-align: middle;\n",
       "    }\n",
       "\n",
       "    .dataframe tbody tr th {\n",
       "        vertical-align: top;\n",
       "    }\n",
       "\n",
       "    .dataframe thead th {\n",
       "        text-align: right;\n",
       "    }\n",
       "</style>\n",
       "<table border=\"1\" class=\"dataframe\">\n",
       "  <thead>\n",
       "    <tr style=\"text-align: right;\">\n",
       "      <th></th>\n",
       "      <th>id</th>\n",
       "      <th>position_id</th>\n",
       "      <th>keywords</th>\n",
       "      <th>detail_url</th>\n",
       "      <th>position</th>\n",
       "      <th>tags</th>\n",
       "      <th>salary</th>\n",
       "      <th>job_type</th>\n",
       "      <th>city</th>\n",
       "      <th>district</th>\n",
       "      <th>street</th>\n",
       "      <th>education</th>\n",
       "      <th>work_experience</th>\n",
       "      <th>release_date</th>\n",
       "      <th>description</th>\n",
       "      <th>company_name</th>\n",
       "      <th>company_scale</th>\n",
       "      <th>company_field</th>\n",
       "      <th>company_type</th>\n",
       "      <th>company_benefits</th>\n",
       "    </tr>\n",
       "  </thead>\n",
       "  <tbody>\n",
       "  </tbody>\n",
       "</table>\n",
       "</div>"
      ],
      "text/plain": [
       "Empty DataFrame\n",
       "Columns: [id, position_id, keywords, detail_url, position, tags, salary, job_type, city, district, street, education, work_experience, release_date, description, company_name, company_scale, company_field, company_type, company_benefits]\n",
       "Index: []"
      ]
     },
     "execution_count": 12,
     "metadata": {},
     "output_type": "execute_result"
    }
   ],
   "source": [
    "\n",
    "data[data['salary'] == '10k以上']"
   ]
  },
  {
   "cell_type": "code",
   "execution_count": null,
   "metadata": {},
   "outputs": [],
   "source": []
  }
 ],
 "metadata": {
  "kernelspec": {
   "display_name": "Python 3",
   "language": "python",
   "name": "python3"
  },
  "language_info": {
   "codemirror_mode": {
    "name": "ipython",
    "version": 3
   },
   "file_extension": ".py",
   "mimetype": "text/x-python",
   "name": "python",
   "nbconvert_exporter": "python",
   "pygments_lexer": "ipython3",
   "version": "3.7.5"
  }
 },
 "nbformat": 4,
 "nbformat_minor": 2
}
