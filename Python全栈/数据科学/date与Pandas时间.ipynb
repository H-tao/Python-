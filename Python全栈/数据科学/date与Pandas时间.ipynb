{
 "cells": [
  {
   "cell_type": "markdown",
   "metadata": {},
   "source": [
    "# time datetime"
   ]
  },
  {
   "cell_type": "code",
   "execution_count": 1,
   "metadata": {},
   "outputs": [
    {
     "data": {
      "text/plain": [
       "1577751633.9798768"
      ]
     },
     "execution_count": 1,
     "metadata": {},
     "output_type": "execute_result"
    }
   ],
   "source": [
    "import time\n",
    "time.time() # 浮点数 now-1970年的时间戳"
   ]
  },
  {
   "cell_type": "code",
   "execution_count": 2,
   "metadata": {},
   "outputs": [
    {
     "data": {
      "text/plain": [
       "time.struct_time(tm_year=2019, tm_mon=12, tm_mday=31, tm_hour=8, tm_min=20, tm_sec=50, tm_wday=1, tm_yday=365, tm_isdst=0)"
      ]
     },
     "execution_count": 2,
     "metadata": {},
     "output_type": "execute_result"
    }
   ],
   "source": [
    "time.localtime(time.time()) # struct_time"
   ]
  },
  {
   "cell_type": "code",
   "execution_count": 3,
   "metadata": {},
   "outputs": [
    {
     "data": {
      "text/plain": [
       "'2019-12-31 08:21:55'"
      ]
     },
     "execution_count": 3,
     "metadata": {},
     "output_type": "execute_result"
    }
   ],
   "source": [
    "time.strftime('%Y-%m-%d %H:%M:%S', time.localtime(time.time()))"
   ]
  },
  {
   "cell_type": "code",
   "execution_count": 4,
   "metadata": {},
   "outputs": [],
   "source": [
    "t = time.strptime('1987-08-22 16:53', '%Y-%m-%d %H:%M')"
   ]
  },
  {
   "cell_type": "code",
   "execution_count": 5,
   "metadata": {},
   "outputs": [
    {
     "data": {
      "text/plain": [
       "time.struct_time(tm_year=1987, tm_mon=8, tm_mday=22, tm_hour=16, tm_min=53, tm_sec=0, tm_wday=5, tm_yday=234, tm_isdst=-1)"
      ]
     },
     "execution_count": 5,
     "metadata": {},
     "output_type": "execute_result"
    }
   ],
   "source": [
    "t"
   ]
  },
  {
   "cell_type": "code",
   "execution_count": 6,
   "metadata": {},
   "outputs": [
    {
     "data": {
      "text/plain": [
       "556620780.0"
      ]
     },
     "execution_count": 6,
     "metadata": {},
     "output_type": "execute_result"
    }
   ],
   "source": [
    "time.mktime(t)"
   ]
  },
  {
   "cell_type": "code",
   "execution_count": 7,
   "metadata": {},
   "outputs": [],
   "source": [
    "from datetime import datetime"
   ]
  },
  {
   "cell_type": "code",
   "execution_count": 8,
   "metadata": {},
   "outputs": [],
   "source": [
    "now = datetime.now()"
   ]
  },
  {
   "cell_type": "code",
   "execution_count": 9,
   "metadata": {},
   "outputs": [
    {
     "data": {
      "text/plain": [
       "datetime.datetime(2019, 12, 31, 8, 24, 4, 930876)"
      ]
     },
     "execution_count": 9,
     "metadata": {},
     "output_type": "execute_result"
    }
   ],
   "source": [
    "now"
   ]
  },
  {
   "cell_type": "code",
   "execution_count": 10,
   "metadata": {},
   "outputs": [
    {
     "name": "stdout",
     "output_type": "stream",
     "text": [
      "2019\n",
      "12\n",
      "31\n"
     ]
    }
   ],
   "source": [
    "print(now.year)\n",
    "print(now.month)\n",
    "print(now.day)"
   ]
  },
  {
   "cell_type": "code",
   "execution_count": 11,
   "metadata": {},
   "outputs": [
    {
     "data": {
      "text/plain": [
       "'2019-12-31 08:24:04'"
      ]
     },
     "execution_count": 11,
     "metadata": {},
     "output_type": "execute_result"
    }
   ],
   "source": [
    "now.strftime('%Y-%m-%d %H:%M:%S')"
   ]
  },
  {
   "cell_type": "code",
   "execution_count": 12,
   "metadata": {},
   "outputs": [],
   "source": [
    "t = datetime.strptime('2019-08-22 16:53:30', '%Y-%m-%d %H:%M:%S')"
   ]
  },
  {
   "cell_type": "code",
   "execution_count": 13,
   "metadata": {},
   "outputs": [
    {
     "data": {
      "text/plain": [
       "datetime.datetime(2019, 8, 22, 16, 53, 30)"
      ]
     },
     "execution_count": 13,
     "metadata": {},
     "output_type": "execute_result"
    }
   ],
   "source": [
    "t"
   ]
  },
  {
   "cell_type": "code",
   "execution_count": 14,
   "metadata": {},
   "outputs": [
    {
     "data": {
      "text/plain": [
       "datetime.datetime(2019, 12, 31, 8, 20, 33)"
      ]
     },
     "execution_count": 14,
     "metadata": {},
     "output_type": "execute_result"
    }
   ],
   "source": [
    "datetime.fromtimestamp(1577751633) # 将时间戳转为datetime"
   ]
  },
  {
   "cell_type": "code",
   "execution_count": 15,
   "metadata": {},
   "outputs": [
    {
     "data": {
      "text/plain": [
       "1577751844.930876"
      ]
     },
     "execution_count": 15,
     "metadata": {},
     "output_type": "execute_result"
    }
   ],
   "source": [
    "now.timestamp() # 当下的时间戳"
   ]
  },
  {
   "cell_type": "code",
   "execution_count": 16,
   "metadata": {},
   "outputs": [],
   "source": [
    "delta = datetime.now() - datetime(2018, 5, 21)"
   ]
  },
  {
   "cell_type": "code",
   "execution_count": 17,
   "metadata": {},
   "outputs": [
    {
     "data": {
      "text/plain": [
       "datetime.timedelta(days=589, seconds=30603, microseconds=1351)"
      ]
     },
     "execution_count": 17,
     "metadata": {},
     "output_type": "execute_result"
    }
   ],
   "source": [
    "delta"
   ]
  },
  {
   "cell_type": "markdown",
   "metadata": {},
   "source": [
    "# Pandas时间序列"
   ]
  },
  {
   "cell_type": "markdown",
   "metadata": {},
   "source": [
    "### 创建一个日期范围\n",
    "通过指定周期和频率，使用date.range()函数就可以创建日期序列。 默认情况下，范围的频率是天。参考以下示例代码 -"
   ]
  },
  {
   "cell_type": "code",
   "execution_count": 18,
   "metadata": {},
   "outputs": [],
   "source": [
    "import pandas as pd\n",
    "# periods时序周期数  freq时序频率：Q 季度 M 月 W 周 D 天 H 小时 T 分 S 秒\n",
    "datelist = pd.date_range('2019-12-1', periods = 5 , freq = 'W')"
   ]
  },
  {
   "cell_type": "code",
   "execution_count": 19,
   "metadata": {
    "scrolled": false
   },
   "outputs": [
    {
     "data": {
      "text/plain": [
       "DatetimeIndex(['2019-12-01', '2019-12-08', '2019-12-15', '2019-12-22',\n",
       "               '2019-12-29'],\n",
       "              dtype='datetime64[ns]', freq='W-SUN')"
      ]
     },
     "execution_count": 19,
     "metadata": {},
     "output_type": "execute_result"
    }
   ],
   "source": [
    "datelist"
   ]
  },
  {
   "cell_type": "markdown",
   "metadata": {},
   "source": [
    "## 案例\n",
    "### 重新采样 更改时间序列为索引 重新分组\n",
    "#### 工作中公司数据量庞大字段多，本机内存不够，常在Linux服务器上运行"
   ]
  },
  {
   "cell_type": "code",
   "execution_count": 21,
   "metadata": {},
   "outputs": [
    {
     "data": {
      "text/html": [
       "<div>\n",
       "<style scoped>\n",
       "    .dataframe tbody tr th:only-of-type {\n",
       "        vertical-align: middle;\n",
       "    }\n",
       "\n",
       "    .dataframe tbody tr th {\n",
       "        vertical-align: top;\n",
       "    }\n",
       "\n",
       "    .dataframe thead th {\n",
       "        text-align: right;\n",
       "    }\n",
       "</style>\n",
       "<table border=\"1\" class=\"dataframe\">\n",
       "  <thead>\n",
       "    <tr style=\"text-align: right;\">\n",
       "      <th></th>\n",
       "      <th>time</th>\n",
       "      <th>cpu</th>\n",
       "    </tr>\n",
       "  </thead>\n",
       "  <tbody>\n",
       "    <tr>\n",
       "      <th>0</th>\n",
       "      <td>2019-12-21 00:00:00</td>\n",
       "      <td>11.155178</td>\n",
       "    </tr>\n",
       "    <tr>\n",
       "      <th>1</th>\n",
       "      <td>2019-12-21 00:01:00</td>\n",
       "      <td>10.695525</td>\n",
       "    </tr>\n",
       "    <tr>\n",
       "      <th>2</th>\n",
       "      <td>2019-12-21 00:02:00</td>\n",
       "      <td>11.163090</td>\n",
       "    </tr>\n",
       "    <tr>\n",
       "      <th>3</th>\n",
       "      <td>2019-12-21 00:03:00</td>\n",
       "      <td>9.670108</td>\n",
       "    </tr>\n",
       "    <tr>\n",
       "      <th>4</th>\n",
       "      <td>2019-12-21 00:04:00</td>\n",
       "      <td>9.421146</td>\n",
       "    </tr>\n",
       "  </tbody>\n",
       "</table>\n",
       "</div>"
      ],
      "text/plain": [
       "                 time        cpu\n",
       "0 2019-12-21 00:00:00  11.155178\n",
       "1 2019-12-21 00:01:00  10.695525\n",
       "2 2019-12-21 00:02:00  11.163090\n",
       "3 2019-12-21 00:03:00   9.670108\n",
       "4 2019-12-21 00:04:00   9.421146"
      ]
     },
     "execution_count": 21,
     "metadata": {},
     "output_type": "execute_result"
    }
   ],
   "source": [
    "import numpy as np\n",
    "data = {\n",
    "    'time' : pd.date_range('2019-12-21', periods = 200000, freq = 'T'),\n",
    "    # randn()正态分布随机数\n",
    "    # numpy + 10 矩阵中每一个数都会加10\n",
    "    'cpu' : np.random.randn(200000)  + 10\n",
    "}\n",
    "# 通过字典创建dataframe\n",
    "df = pd.DataFrame(data, columns = {'time', 'cpu'})\n",
    "df.head()"
   ]
  },
  {
   "cell_type": "code",
   "execution_count": 22,
   "metadata": {
    "scrolled": true
   },
   "outputs": [
    {
     "data": {
      "text/html": [
       "<div>\n",
       "<style scoped>\n",
       "    .dataframe tbody tr th:only-of-type {\n",
       "        vertical-align: middle;\n",
       "    }\n",
       "\n",
       "    .dataframe tbody tr th {\n",
       "        vertical-align: top;\n",
       "    }\n",
       "\n",
       "    .dataframe thead th {\n",
       "        text-align: right;\n",
       "    }\n",
       "</style>\n",
       "<table border=\"1\" class=\"dataframe\">\n",
       "  <thead>\n",
       "    <tr style=\"text-align: right;\">\n",
       "      <th></th>\n",
       "      <th>time</th>\n",
       "      <th>cpu</th>\n",
       "    </tr>\n",
       "  </thead>\n",
       "  <tbody>\n",
       "    <tr>\n",
       "      <th>199995</th>\n",
       "      <td>2020-05-07 21:15:00</td>\n",
       "      <td>10.142505</td>\n",
       "    </tr>\n",
       "    <tr>\n",
       "      <th>199996</th>\n",
       "      <td>2020-05-07 21:16:00</td>\n",
       "      <td>12.689645</td>\n",
       "    </tr>\n",
       "    <tr>\n",
       "      <th>199997</th>\n",
       "      <td>2020-05-07 21:17:00</td>\n",
       "      <td>10.579123</td>\n",
       "    </tr>\n",
       "    <tr>\n",
       "      <th>199998</th>\n",
       "      <td>2020-05-07 21:18:00</td>\n",
       "      <td>10.327889</td>\n",
       "    </tr>\n",
       "    <tr>\n",
       "      <th>199999</th>\n",
       "      <td>2020-05-07 21:19:00</td>\n",
       "      <td>10.194770</td>\n",
       "    </tr>\n",
       "  </tbody>\n",
       "</table>\n",
       "</div>"
      ],
      "text/plain": [
       "                      time        cpu\n",
       "199995 2020-05-07 21:15:00  10.142505\n",
       "199996 2020-05-07 21:16:00  12.689645\n",
       "199997 2020-05-07 21:17:00  10.579123\n",
       "199998 2020-05-07 21:18:00  10.327889\n",
       "199999 2020-05-07 21:19:00  10.194770"
      ]
     },
     "execution_count": 22,
     "metadata": {},
     "output_type": "execute_result"
    }
   ],
   "source": [
    "df.tail()"
   ]
  },
  {
   "cell_type": "code",
   "execution_count": 23,
   "metadata": {
    "scrolled": true
   },
   "outputs": [
    {
     "name": "stdout",
     "output_type": "stream",
     "text": [
      "<class 'pandas.core.frame.DataFrame'>\n",
      "RangeIndex: 200000 entries, 0 to 199999\n",
      "Data columns (total 2 columns):\n",
      "time    200000 non-null datetime64[ns]\n",
      "cpu     200000 non-null float64\n",
      "dtypes: datetime64[ns](1), float64(1)\n",
      "memory usage: 3.1 MB\n"
     ]
    }
   ],
   "source": [
    "df.info()"
   ]
  },
  {
   "cell_type": "code",
   "execution_count": 24,
   "metadata": {},
   "outputs": [
    {
     "data": {
      "text/html": [
       "<div>\n",
       "<style scoped>\n",
       "    .dataframe tbody tr th:only-of-type {\n",
       "        vertical-align: middle;\n",
       "    }\n",
       "\n",
       "    .dataframe tbody tr th {\n",
       "        vertical-align: top;\n",
       "    }\n",
       "\n",
       "    .dataframe thead th {\n",
       "        text-align: right;\n",
       "    }\n",
       "</style>\n",
       "<table border=\"1\" class=\"dataframe\">\n",
       "  <thead>\n",
       "    <tr style=\"text-align: right;\">\n",
       "      <th></th>\n",
       "      <th>time</th>\n",
       "      <th>cpu</th>\n",
       "    </tr>\n",
       "  </thead>\n",
       "  <tbody>\n",
       "    <tr>\n",
       "      <th>16320</th>\n",
       "      <td>2020-01-01 08:00:00</td>\n",
       "      <td>11.906683</td>\n",
       "    </tr>\n",
       "    <tr>\n",
       "      <th>16321</th>\n",
       "      <td>2020-01-01 08:01:00</td>\n",
       "      <td>10.646535</td>\n",
       "    </tr>\n",
       "    <tr>\n",
       "      <th>16322</th>\n",
       "      <td>2020-01-01 08:02:00</td>\n",
       "      <td>10.755883</td>\n",
       "    </tr>\n",
       "    <tr>\n",
       "      <th>16323</th>\n",
       "      <td>2020-01-01 08:03:00</td>\n",
       "      <td>9.932227</td>\n",
       "    </tr>\n",
       "    <tr>\n",
       "      <th>16324</th>\n",
       "      <td>2020-01-01 08:04:00</td>\n",
       "      <td>11.556679</td>\n",
       "    </tr>\n",
       "    <tr>\n",
       "      <th>16325</th>\n",
       "      <td>2020-01-01 08:05:00</td>\n",
       "      <td>8.741161</td>\n",
       "    </tr>\n",
       "    <tr>\n",
       "      <th>16326</th>\n",
       "      <td>2020-01-01 08:06:00</td>\n",
       "      <td>8.393469</td>\n",
       "    </tr>\n",
       "    <tr>\n",
       "      <th>16327</th>\n",
       "      <td>2020-01-01 08:07:00</td>\n",
       "      <td>9.914700</td>\n",
       "    </tr>\n",
       "    <tr>\n",
       "      <th>16328</th>\n",
       "      <td>2020-01-01 08:08:00</td>\n",
       "      <td>8.705527</td>\n",
       "    </tr>\n",
       "    <tr>\n",
       "      <th>16329</th>\n",
       "      <td>2020-01-01 08:09:00</td>\n",
       "      <td>10.183882</td>\n",
       "    </tr>\n",
       "    <tr>\n",
       "      <th>16330</th>\n",
       "      <td>2020-01-01 08:10:00</td>\n",
       "      <td>9.813345</td>\n",
       "    </tr>\n",
       "  </tbody>\n",
       "</table>\n",
       "</div>"
      ],
      "text/plain": [
       "                     time        cpu\n",
       "16320 2020-01-01 08:00:00  11.906683\n",
       "16321 2020-01-01 08:01:00  10.646535\n",
       "16322 2020-01-01 08:02:00  10.755883\n",
       "16323 2020-01-01 08:03:00   9.932227\n",
       "16324 2020-01-01 08:04:00  11.556679\n",
       "16325 2020-01-01 08:05:00   8.741161\n",
       "16326 2020-01-01 08:06:00   8.393469\n",
       "16327 2020-01-01 08:07:00   9.914700\n",
       "16328 2020-01-01 08:08:00   8.705527\n",
       "16329 2020-01-01 08:09:00  10.183882\n",
       "16330 2020-01-01 08:10:00   9.813345"
      ]
     },
     "execution_count": 24,
     "metadata": {},
     "output_type": "execute_result"
    }
   ],
   "source": [
    "# 布尔索引访问\n",
    "df[(df.time >= '2020-01-01 08:00:00') & (df.time <= '2020-01-01 08:10:00')]"
   ]
  },
  {
   "cell_type": "code",
   "execution_count": 25,
   "metadata": {},
   "outputs": [
    {
     "data": {
      "text/html": [
       "<div>\n",
       "<style scoped>\n",
       "    .dataframe tbody tr th:only-of-type {\n",
       "        vertical-align: middle;\n",
       "    }\n",
       "\n",
       "    .dataframe tbody tr th {\n",
       "        vertical-align: top;\n",
       "    }\n",
       "\n",
       "    .dataframe thead th {\n",
       "        text-align: right;\n",
       "    }\n",
       "</style>\n",
       "<table border=\"1\" class=\"dataframe\">\n",
       "  <thead>\n",
       "    <tr style=\"text-align: right;\">\n",
       "      <th></th>\n",
       "      <th>time</th>\n",
       "      <th>cpu</th>\n",
       "    </tr>\n",
       "    <tr>\n",
       "      <th>time</th>\n",
       "      <th></th>\n",
       "      <th></th>\n",
       "    </tr>\n",
       "  </thead>\n",
       "  <tbody>\n",
       "    <tr>\n",
       "      <th>2019-12-21 00:00:00</th>\n",
       "      <td>2019-12-21 00:00:00</td>\n",
       "      <td>11.155178</td>\n",
       "    </tr>\n",
       "    <tr>\n",
       "      <th>2019-12-21 00:01:00</th>\n",
       "      <td>2019-12-21 00:01:00</td>\n",
       "      <td>10.695525</td>\n",
       "    </tr>\n",
       "    <tr>\n",
       "      <th>2019-12-21 00:02:00</th>\n",
       "      <td>2019-12-21 00:02:00</td>\n",
       "      <td>11.163090</td>\n",
       "    </tr>\n",
       "    <tr>\n",
       "      <th>2019-12-21 00:03:00</th>\n",
       "      <td>2019-12-21 00:03:00</td>\n",
       "      <td>9.670108</td>\n",
       "    </tr>\n",
       "    <tr>\n",
       "      <th>2019-12-21 00:04:00</th>\n",
       "      <td>2019-12-21 00:04:00</td>\n",
       "      <td>9.421146</td>\n",
       "    </tr>\n",
       "  </tbody>\n",
       "</table>\n",
       "</div>"
      ],
      "text/plain": [
       "                                   time        cpu\n",
       "time                                              \n",
       "2019-12-21 00:00:00 2019-12-21 00:00:00  11.155178\n",
       "2019-12-21 00:01:00 2019-12-21 00:01:00  10.695525\n",
       "2019-12-21 00:02:00 2019-12-21 00:02:00  11.163090\n",
       "2019-12-21 00:03:00 2019-12-21 00:03:00   9.670108\n",
       "2019-12-21 00:04:00 2019-12-21 00:04:00   9.421146"
      ]
     },
     "execution_count": 25,
     "metadata": {},
     "output_type": "execute_result"
    }
   ],
   "source": [
    "# 为了查看1小时内CPU占用情况，缩短数据频率，改造DataFrame\n",
    "# 让时间作为索引，改造成5分钟一次作为索引，求5分钟的平均值\n",
    "s = pd.to_datetime(df.time)\n",
    "df.index = s\n",
    "df.head()"
   ]
  },
  {
   "cell_type": "code",
   "execution_count": 26,
   "metadata": {},
   "outputs": [
    {
     "data": {
      "text/html": [
       "<div>\n",
       "<style scoped>\n",
       "    .dataframe tbody tr th:only-of-type {\n",
       "        vertical-align: middle;\n",
       "    }\n",
       "\n",
       "    .dataframe tbody tr th {\n",
       "        vertical-align: top;\n",
       "    }\n",
       "\n",
       "    .dataframe thead th {\n",
       "        text-align: right;\n",
       "    }\n",
       "</style>\n",
       "<table border=\"1\" class=\"dataframe\">\n",
       "  <thead>\n",
       "    <tr style=\"text-align: right;\">\n",
       "      <th></th>\n",
       "      <th>cpu</th>\n",
       "    </tr>\n",
       "    <tr>\n",
       "      <th>time</th>\n",
       "      <th></th>\n",
       "    </tr>\n",
       "  </thead>\n",
       "  <tbody>\n",
       "    <tr>\n",
       "      <th>2019-12-21 00:00:00</th>\n",
       "      <td>11.155178</td>\n",
       "    </tr>\n",
       "    <tr>\n",
       "      <th>2019-12-21 00:01:00</th>\n",
       "      <td>10.695525</td>\n",
       "    </tr>\n",
       "    <tr>\n",
       "      <th>2019-12-21 00:02:00</th>\n",
       "      <td>11.163090</td>\n",
       "    </tr>\n",
       "    <tr>\n",
       "      <th>2019-12-21 00:03:00</th>\n",
       "      <td>9.670108</td>\n",
       "    </tr>\n",
       "    <tr>\n",
       "      <th>2019-12-21 00:04:00</th>\n",
       "      <td>9.421146</td>\n",
       "    </tr>\n",
       "    <tr>\n",
       "      <th>...</th>\n",
       "      <td>...</td>\n",
       "    </tr>\n",
       "    <tr>\n",
       "      <th>2020-05-07 21:15:00</th>\n",
       "      <td>10.142505</td>\n",
       "    </tr>\n",
       "    <tr>\n",
       "      <th>2020-05-07 21:16:00</th>\n",
       "      <td>12.689645</td>\n",
       "    </tr>\n",
       "    <tr>\n",
       "      <th>2020-05-07 21:17:00</th>\n",
       "      <td>10.579123</td>\n",
       "    </tr>\n",
       "    <tr>\n",
       "      <th>2020-05-07 21:18:00</th>\n",
       "      <td>10.327889</td>\n",
       "    </tr>\n",
       "    <tr>\n",
       "      <th>2020-05-07 21:19:00</th>\n",
       "      <td>10.194770</td>\n",
       "    </tr>\n",
       "  </tbody>\n",
       "</table>\n",
       "<p>200000 rows × 1 columns</p>\n",
       "</div>"
      ],
      "text/plain": [
       "                           cpu\n",
       "time                          \n",
       "2019-12-21 00:00:00  11.155178\n",
       "2019-12-21 00:01:00  10.695525\n",
       "2019-12-21 00:02:00  11.163090\n",
       "2019-12-21 00:03:00   9.670108\n",
       "2019-12-21 00:04:00   9.421146\n",
       "...                        ...\n",
       "2020-05-07 21:15:00  10.142505\n",
       "2020-05-07 21:16:00  12.689645\n",
       "2020-05-07 21:17:00  10.579123\n",
       "2020-05-07 21:18:00  10.327889\n",
       "2020-05-07 21:19:00  10.194770\n",
       "\n",
       "[200000 rows x 1 columns]"
      ]
     },
     "execution_count": 26,
     "metadata": {},
     "output_type": "execute_result"
    }
   ],
   "source": [
    "# 删除time列, 加入axis = 1参数\n",
    "df1 = df.drop('time', axis = 1)\n",
    "df1"
   ]
  },
  {
   "cell_type": "code",
   "execution_count": 28,
   "metadata": {},
   "outputs": [
    {
     "data": {
      "text/html": [
       "<div>\n",
       "<style scoped>\n",
       "    .dataframe tbody tr th:only-of-type {\n",
       "        vertical-align: middle;\n",
       "    }\n",
       "\n",
       "    .dataframe tbody tr th {\n",
       "        vertical-align: top;\n",
       "    }\n",
       "\n",
       "    .dataframe thead th {\n",
       "        text-align: right;\n",
       "    }\n",
       "</style>\n",
       "<table border=\"1\" class=\"dataframe\">\n",
       "  <thead>\n",
       "    <tr style=\"text-align: right;\">\n",
       "      <th></th>\n",
       "      <th>cpu</th>\n",
       "    </tr>\n",
       "    <tr>\n",
       "      <th>time</th>\n",
       "      <th></th>\n",
       "    </tr>\n",
       "  </thead>\n",
       "  <tbody>\n",
       "    <tr>\n",
       "      <th>2020-01-01 08:00:00</th>\n",
       "      <td>11.906683</td>\n",
       "    </tr>\n",
       "    <tr>\n",
       "      <th>2020-01-01 08:01:00</th>\n",
       "      <td>10.646535</td>\n",
       "    </tr>\n",
       "    <tr>\n",
       "      <th>2020-01-01 08:02:00</th>\n",
       "      <td>10.755883</td>\n",
       "    </tr>\n",
       "    <tr>\n",
       "      <th>2020-01-01 08:03:00</th>\n",
       "      <td>9.932227</td>\n",
       "    </tr>\n",
       "    <tr>\n",
       "      <th>2020-01-01 08:04:00</th>\n",
       "      <td>11.556679</td>\n",
       "    </tr>\n",
       "    <tr>\n",
       "      <th>2020-01-01 08:05:00</th>\n",
       "      <td>8.741161</td>\n",
       "    </tr>\n",
       "    <tr>\n",
       "      <th>2020-01-01 08:06:00</th>\n",
       "      <td>8.393469</td>\n",
       "    </tr>\n",
       "    <tr>\n",
       "      <th>2020-01-01 08:07:00</th>\n",
       "      <td>9.914700</td>\n",
       "    </tr>\n",
       "    <tr>\n",
       "      <th>2020-01-01 08:08:00</th>\n",
       "      <td>8.705527</td>\n",
       "    </tr>\n",
       "    <tr>\n",
       "      <th>2020-01-01 08:09:00</th>\n",
       "      <td>10.183882</td>\n",
       "    </tr>\n",
       "    <tr>\n",
       "      <th>2020-01-01 08:10:00</th>\n",
       "      <td>9.813345</td>\n",
       "    </tr>\n",
       "  </tbody>\n",
       "</table>\n",
       "</div>"
      ],
      "text/plain": [
       "                           cpu\n",
       "time                          \n",
       "2020-01-01 08:00:00  11.906683\n",
       "2020-01-01 08:01:00  10.646535\n",
       "2020-01-01 08:02:00  10.755883\n",
       "2020-01-01 08:03:00   9.932227\n",
       "2020-01-01 08:04:00  11.556679\n",
       "2020-01-01 08:05:00   8.741161\n",
       "2020-01-01 08:06:00   8.393469\n",
       "2020-01-01 08:07:00   9.914700\n",
       "2020-01-01 08:08:00   8.705527\n",
       "2020-01-01 08:09:00  10.183882\n",
       "2020-01-01 08:10:00   9.813345"
      ]
     },
     "execution_count": 28,
     "metadata": {},
     "output_type": "execute_result"
    }
   ],
   "source": [
    "# 多行切片\n",
    "df1['2020-01-01 08:00:00':'2020-01-01 08:10:00']"
   ]
  },
  {
   "cell_type": "code",
   "execution_count": 29,
   "metadata": {},
   "outputs": [
    {
     "data": {
      "text/html": [
       "<div>\n",
       "<style scoped>\n",
       "    .dataframe tbody tr th:only-of-type {\n",
       "        vertical-align: middle;\n",
       "    }\n",
       "\n",
       "    .dataframe tbody tr th {\n",
       "        vertical-align: top;\n",
       "    }\n",
       "\n",
       "    .dataframe thead th {\n",
       "        text-align: right;\n",
       "    }\n",
       "</style>\n",
       "<table border=\"1\" class=\"dataframe\">\n",
       "  <thead>\n",
       "    <tr style=\"text-align: right;\">\n",
       "      <th></th>\n",
       "      <th>cpu</th>\n",
       "    </tr>\n",
       "    <tr>\n",
       "      <th>time</th>\n",
       "      <th></th>\n",
       "    </tr>\n",
       "  </thead>\n",
       "  <tbody>\n",
       "    <tr>\n",
       "      <th>2020-01-01 00:00:00</th>\n",
       "      <td>9.625187</td>\n",
       "    </tr>\n",
       "    <tr>\n",
       "      <th>2020-01-01 00:01:00</th>\n",
       "      <td>10.024889</td>\n",
       "    </tr>\n",
       "    <tr>\n",
       "      <th>2020-01-01 00:02:00</th>\n",
       "      <td>10.417493</td>\n",
       "    </tr>\n",
       "    <tr>\n",
       "      <th>2020-01-01 00:03:00</th>\n",
       "      <td>9.899133</td>\n",
       "    </tr>\n",
       "    <tr>\n",
       "      <th>2020-01-01 00:04:00</th>\n",
       "      <td>9.548615</td>\n",
       "    </tr>\n",
       "    <tr>\n",
       "      <th>...</th>\n",
       "      <td>...</td>\n",
       "    </tr>\n",
       "    <tr>\n",
       "      <th>2020-01-01 23:55:00</th>\n",
       "      <td>9.136206</td>\n",
       "    </tr>\n",
       "    <tr>\n",
       "      <th>2020-01-01 23:56:00</th>\n",
       "      <td>9.707098</td>\n",
       "    </tr>\n",
       "    <tr>\n",
       "      <th>2020-01-01 23:57:00</th>\n",
       "      <td>10.402210</td>\n",
       "    </tr>\n",
       "    <tr>\n",
       "      <th>2020-01-01 23:58:00</th>\n",
       "      <td>9.973913</td>\n",
       "    </tr>\n",
       "    <tr>\n",
       "      <th>2020-01-01 23:59:00</th>\n",
       "      <td>10.333419</td>\n",
       "    </tr>\n",
       "  </tbody>\n",
       "</table>\n",
       "<p>1440 rows × 1 columns</p>\n",
       "</div>"
      ],
      "text/plain": [
       "                           cpu\n",
       "time                          \n",
       "2020-01-01 00:00:00   9.625187\n",
       "2020-01-01 00:01:00  10.024889\n",
       "2020-01-01 00:02:00  10.417493\n",
       "2020-01-01 00:03:00   9.899133\n",
       "2020-01-01 00:04:00   9.548615\n",
       "...                        ...\n",
       "2020-01-01 23:55:00   9.136206\n",
       "2020-01-01 23:56:00   9.707098\n",
       "2020-01-01 23:57:00  10.402210\n",
       "2020-01-01 23:58:00   9.973913\n",
       "2020-01-01 23:59:00  10.333419\n",
       "\n",
       "[1440 rows x 1 columns]"
      ]
     },
     "execution_count": 29,
     "metadata": {},
     "output_type": "execute_result"
    }
   ],
   "source": [
    "# 查看一天的数据\n",
    "df1['2020-01-01']"
   ]
  },
  {
   "cell_type": "code",
   "execution_count": 30,
   "metadata": {},
   "outputs": [
    {
     "data": {
      "text/html": [
       "<div>\n",
       "<style scoped>\n",
       "    .dataframe tbody tr th:only-of-type {\n",
       "        vertical-align: middle;\n",
       "    }\n",
       "\n",
       "    .dataframe tbody tr th {\n",
       "        vertical-align: top;\n",
       "    }\n",
       "\n",
       "    .dataframe thead th {\n",
       "        text-align: right;\n",
       "    }\n",
       "</style>\n",
       "<table border=\"1\" class=\"dataframe\">\n",
       "  <thead>\n",
       "    <tr style=\"text-align: right;\">\n",
       "      <th></th>\n",
       "      <th>cpu</th>\n",
       "    </tr>\n",
       "  </thead>\n",
       "  <tbody>\n",
       "    <tr>\n",
       "      <th>2019-12-21</th>\n",
       "      <td>9.964567</td>\n",
       "    </tr>\n",
       "    <tr>\n",
       "      <th>2019-12-22</th>\n",
       "      <td>10.001725</td>\n",
       "    </tr>\n",
       "    <tr>\n",
       "      <th>2019-12-23</th>\n",
       "      <td>10.016273</td>\n",
       "    </tr>\n",
       "    <tr>\n",
       "      <th>2019-12-24</th>\n",
       "      <td>10.006077</td>\n",
       "    </tr>\n",
       "    <tr>\n",
       "      <th>2019-12-25</th>\n",
       "      <td>10.014244</td>\n",
       "    </tr>\n",
       "    <tr>\n",
       "      <th>...</th>\n",
       "      <td>...</td>\n",
       "    </tr>\n",
       "    <tr>\n",
       "      <th>2020-05-03</th>\n",
       "      <td>9.944501</td>\n",
       "    </tr>\n",
       "    <tr>\n",
       "      <th>2020-05-04</th>\n",
       "      <td>9.986344</td>\n",
       "    </tr>\n",
       "    <tr>\n",
       "      <th>2020-05-05</th>\n",
       "      <td>9.998849</td>\n",
       "    </tr>\n",
       "    <tr>\n",
       "      <th>2020-05-06</th>\n",
       "      <td>10.013825</td>\n",
       "    </tr>\n",
       "    <tr>\n",
       "      <th>2020-05-07</th>\n",
       "      <td>9.971317</td>\n",
       "    </tr>\n",
       "  </tbody>\n",
       "</table>\n",
       "<p>139 rows × 1 columns</p>\n",
       "</div>"
      ],
      "text/plain": [
       "                  cpu\n",
       "2019-12-21   9.964567\n",
       "2019-12-22  10.001725\n",
       "2019-12-23  10.016273\n",
       "2019-12-24  10.006077\n",
       "2019-12-25  10.014244\n",
       "...               ...\n",
       "2020-05-03   9.944501\n",
       "2020-05-04   9.986344\n",
       "2020-05-05   9.998849\n",
       "2020-05-06  10.013825\n",
       "2020-05-07   9.971317\n",
       "\n",
       "[139 rows x 1 columns]"
      ]
     },
     "execution_count": 30,
     "metadata": {},
     "output_type": "execute_result"
    }
   ],
   "source": [
    "# 以天分组求平均\n",
    "df1.groupby(df.index.date).mean()"
   ]
  },
  {
   "cell_type": "code",
   "execution_count": 31,
   "metadata": {},
   "outputs": [
    {
     "data": {
      "text/html": [
       "<div>\n",
       "<style scoped>\n",
       "    .dataframe tbody tr th:only-of-type {\n",
       "        vertical-align: middle;\n",
       "    }\n",
       "\n",
       "    .dataframe tbody tr th {\n",
       "        vertical-align: top;\n",
       "    }\n",
       "\n",
       "    .dataframe thead th {\n",
       "        text-align: right;\n",
       "    }\n",
       "</style>\n",
       "<table border=\"1\" class=\"dataframe\">\n",
       "  <thead>\n",
       "    <tr style=\"text-align: right;\">\n",
       "      <th></th>\n",
       "      <th>cpu</th>\n",
       "    </tr>\n",
       "    <tr>\n",
       "      <th>time</th>\n",
       "      <th></th>\n",
       "    </tr>\n",
       "  </thead>\n",
       "  <tbody>\n",
       "    <tr>\n",
       "      <th>0</th>\n",
       "      <td>10.006362</td>\n",
       "    </tr>\n",
       "    <tr>\n",
       "      <th>1</th>\n",
       "      <td>9.998441</td>\n",
       "    </tr>\n",
       "    <tr>\n",
       "      <th>2</th>\n",
       "      <td>10.020247</td>\n",
       "    </tr>\n",
       "    <tr>\n",
       "      <th>3</th>\n",
       "      <td>9.991877</td>\n",
       "    </tr>\n",
       "    <tr>\n",
       "      <th>4</th>\n",
       "      <td>10.003825</td>\n",
       "    </tr>\n",
       "    <tr>\n",
       "      <th>5</th>\n",
       "      <td>9.997220</td>\n",
       "    </tr>\n",
       "    <tr>\n",
       "      <th>6</th>\n",
       "      <td>9.988616</td>\n",
       "    </tr>\n",
       "    <tr>\n",
       "      <th>7</th>\n",
       "      <td>10.007708</td>\n",
       "    </tr>\n",
       "    <tr>\n",
       "      <th>8</th>\n",
       "      <td>9.994101</td>\n",
       "    </tr>\n",
       "    <tr>\n",
       "      <th>9</th>\n",
       "      <td>9.983921</td>\n",
       "    </tr>\n",
       "    <tr>\n",
       "      <th>10</th>\n",
       "      <td>10.012166</td>\n",
       "    </tr>\n",
       "    <tr>\n",
       "      <th>11</th>\n",
       "      <td>9.999166</td>\n",
       "    </tr>\n",
       "    <tr>\n",
       "      <th>12</th>\n",
       "      <td>10.012960</td>\n",
       "    </tr>\n",
       "    <tr>\n",
       "      <th>13</th>\n",
       "      <td>10.004291</td>\n",
       "    </tr>\n",
       "    <tr>\n",
       "      <th>14</th>\n",
       "      <td>9.974173</td>\n",
       "    </tr>\n",
       "    <tr>\n",
       "      <th>15</th>\n",
       "      <td>9.997798</td>\n",
       "    </tr>\n",
       "    <tr>\n",
       "      <th>16</th>\n",
       "      <td>9.993204</td>\n",
       "    </tr>\n",
       "    <tr>\n",
       "      <th>17</th>\n",
       "      <td>10.002647</td>\n",
       "    </tr>\n",
       "    <tr>\n",
       "      <th>18</th>\n",
       "      <td>10.002119</td>\n",
       "    </tr>\n",
       "    <tr>\n",
       "      <th>19</th>\n",
       "      <td>9.987769</td>\n",
       "    </tr>\n",
       "    <tr>\n",
       "      <th>20</th>\n",
       "      <td>10.009112</td>\n",
       "    </tr>\n",
       "    <tr>\n",
       "      <th>21</th>\n",
       "      <td>9.993487</td>\n",
       "    </tr>\n",
       "    <tr>\n",
       "      <th>22</th>\n",
       "      <td>10.010625</td>\n",
       "    </tr>\n",
       "    <tr>\n",
       "      <th>23</th>\n",
       "      <td>10.019059</td>\n",
       "    </tr>\n",
       "  </tbody>\n",
       "</table>\n",
       "</div>"
      ],
      "text/plain": [
       "            cpu\n",
       "time           \n",
       "0     10.006362\n",
       "1      9.998441\n",
       "2     10.020247\n",
       "3      9.991877\n",
       "4     10.003825\n",
       "5      9.997220\n",
       "6      9.988616\n",
       "7     10.007708\n",
       "8      9.994101\n",
       "9      9.983921\n",
       "10    10.012166\n",
       "11     9.999166\n",
       "12    10.012960\n",
       "13    10.004291\n",
       "14     9.974173\n",
       "15     9.997798\n",
       "16     9.993204\n",
       "17    10.002647\n",
       "18    10.002119\n",
       "19     9.987769\n",
       "20    10.009112\n",
       "21     9.993487\n",
       "22    10.010625\n",
       "23    10.019059"
      ]
     },
     "execution_count": 31,
     "metadata": {},
     "output_type": "execute_result"
    }
   ],
   "source": [
    "# 以小时分组求平均\n",
    "df1.groupby(df.index.hour).mean()"
   ]
  },
  {
   "cell_type": "code",
   "execution_count": 32,
   "metadata": {},
   "outputs": [
    {
     "data": {
      "text/html": [
       "<div>\n",
       "<style scoped>\n",
       "    .dataframe tbody tr th:only-of-type {\n",
       "        vertical-align: middle;\n",
       "    }\n",
       "\n",
       "    .dataframe tbody tr th {\n",
       "        vertical-align: top;\n",
       "    }\n",
       "\n",
       "    .dataframe thead th {\n",
       "        text-align: right;\n",
       "    }\n",
       "</style>\n",
       "<table border=\"1\" class=\"dataframe\">\n",
       "  <thead>\n",
       "    <tr style=\"text-align: right;\">\n",
       "      <th></th>\n",
       "      <th>cpu</th>\n",
       "    </tr>\n",
       "    <tr>\n",
       "      <th>time</th>\n",
       "      <th></th>\n",
       "    </tr>\n",
       "  </thead>\n",
       "  <tbody>\n",
       "    <tr>\n",
       "      <th>1</th>\n",
       "      <td>9.997606</td>\n",
       "    </tr>\n",
       "    <tr>\n",
       "      <th>2</th>\n",
       "      <td>9.999273</td>\n",
       "    </tr>\n",
       "    <tr>\n",
       "      <th>3</th>\n",
       "      <td>10.002915</td>\n",
       "    </tr>\n",
       "    <tr>\n",
       "      <th>4</th>\n",
       "      <td>9.999013</td>\n",
       "    </tr>\n",
       "    <tr>\n",
       "      <th>5</th>\n",
       "      <td>9.991771</td>\n",
       "    </tr>\n",
       "    <tr>\n",
       "      <th>6</th>\n",
       "      <td>9.984728</td>\n",
       "    </tr>\n",
       "    <tr>\n",
       "      <th>7</th>\n",
       "      <td>10.002739</td>\n",
       "    </tr>\n",
       "    <tr>\n",
       "      <th>8</th>\n",
       "      <td>10.010266</td>\n",
       "    </tr>\n",
       "    <tr>\n",
       "      <th>9</th>\n",
       "      <td>10.017254</td>\n",
       "    </tr>\n",
       "    <tr>\n",
       "      <th>10</th>\n",
       "      <td>9.984919</td>\n",
       "    </tr>\n",
       "    <tr>\n",
       "      <th>11</th>\n",
       "      <td>10.005018</td>\n",
       "    </tr>\n",
       "    <tr>\n",
       "      <th>12</th>\n",
       "      <td>10.000160</td>\n",
       "    </tr>\n",
       "    <tr>\n",
       "      <th>13</th>\n",
       "      <td>9.992882</td>\n",
       "    </tr>\n",
       "    <tr>\n",
       "      <th>14</th>\n",
       "      <td>10.017281</td>\n",
       "    </tr>\n",
       "    <tr>\n",
       "      <th>15</th>\n",
       "      <td>9.993384</td>\n",
       "    </tr>\n",
       "    <tr>\n",
       "      <th>16</th>\n",
       "      <td>10.018183</td>\n",
       "    </tr>\n",
       "    <tr>\n",
       "      <th>17</th>\n",
       "      <td>9.992250</td>\n",
       "    </tr>\n",
       "    <tr>\n",
       "      <th>18</th>\n",
       "      <td>10.007368</td>\n",
       "    </tr>\n",
       "    <tr>\n",
       "      <th>19</th>\n",
       "      <td>9.993191</td>\n",
       "    </tr>\n",
       "    <tr>\n",
       "      <th>51</th>\n",
       "      <td>9.983146</td>\n",
       "    </tr>\n",
       "    <tr>\n",
       "      <th>52</th>\n",
       "      <td>10.000449</td>\n",
       "    </tr>\n",
       "  </tbody>\n",
       "</table>\n",
       "</div>"
      ],
      "text/plain": [
       "            cpu\n",
       "time           \n",
       "1      9.997606\n",
       "2      9.999273\n",
       "3     10.002915\n",
       "4      9.999013\n",
       "5      9.991771\n",
       "6      9.984728\n",
       "7     10.002739\n",
       "8     10.010266\n",
       "9     10.017254\n",
       "10     9.984919\n",
       "11    10.005018\n",
       "12    10.000160\n",
       "13     9.992882\n",
       "14    10.017281\n",
       "15     9.993384\n",
       "16    10.018183\n",
       "17     9.992250\n",
       "18    10.007368\n",
       "19     9.993191\n",
       "51     9.983146\n",
       "52    10.000449"
      ]
     },
     "execution_count": 32,
     "metadata": {},
     "output_type": "execute_result"
    }
   ],
   "source": [
    "# 以周分组求平均\n",
    "df1.groupby(df.index.week).mean()"
   ]
  },
  {
   "cell_type": "code",
   "execution_count": null,
   "metadata": {},
   "outputs": [],
   "source": [
    "# 以5分钟为频率求平均\n",
    "df1.resample('5T').mean()"
   ]
  },
  {
   "cell_type": "code",
   "execution_count": null,
   "metadata": {},
   "outputs": [],
   "source": []
  }
 ],
 "metadata": {
  "kernelspec": {
   "display_name": "Python 3",
   "language": "python",
   "name": "python3"
  },
  "language_info": {
   "codemirror_mode": {
    "name": "ipython",
    "version": 3
   },
   "file_extension": ".py",
   "mimetype": "text/x-python",
   "name": "python",
   "nbconvert_exporter": "python",
   "pygments_lexer": "ipython3",
   "version": "3.7.5"
  }
 },
 "nbformat": 4,
 "nbformat_minor": 2
}
